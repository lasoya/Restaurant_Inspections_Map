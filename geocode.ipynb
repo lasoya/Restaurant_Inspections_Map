{
 "cells": [
  {
   "cell_type": "markdown",
   "metadata": {},
   "source": [
    "This is the second and one of the main parts of this project. Addresses of NYC restaurants with critical violations noted during inspection by the Department of Mental Health and Hygiene in 2019 are run through a geocoder to obtain geographic coordinates, which are then saved for visualization in the next step ('visualization.ipynb' notebook)."
   ]
  },
  {
   "cell_type": "markdown",
   "metadata": {},
   "source": [
    "# Import Libraries"
   ]
  },
  {
   "cell_type": "code",
   "execution_count": 1,
   "metadata": {},
   "outputs": [],
   "source": [
    "import pandas as pd\n",
    "from geopy.geocoders import Nominatim\n",
    "from geopy.extra.rate_limiter import RateLimiter"
   ]
  },
  {
   "cell_type": "markdown",
   "metadata": {},
   "source": [
    "# Import Data"
   ]
  },
  {
   "cell_type": "markdown",
   "metadata": {},
   "source": [
    "The raw dataset used for this project is the NYC Restaurant Inspections data, last updated May 6th, 2019 and obtained through NYC Open Data. In this section of the project, only the cleaned data with the unique ID identifier, restaurant name, and restaurant address are used."
   ]
  },
  {
   "cell_type": "code",
   "execution_count": 2,
   "metadata": {},
   "outputs": [],
   "source": [
    "# read in data into pandas dataframe\n",
    "data = pd.read_csv('./data/NYC_Restaurant_Inspections_Data_Critical_2019.csv', usecols=['ID', 'RESTAURANT NAME', 'ADDRESS'])"
   ]
  },
  {
   "cell_type": "code",
   "execution_count": 3,
   "metadata": {},
   "outputs": [
    {
     "data": {
      "text/html": [
       "<div>\n",
       "<style scoped>\n",
       "    .dataframe tbody tr th:only-of-type {\n",
       "        vertical-align: middle;\n",
       "    }\n",
       "\n",
       "    .dataframe tbody tr th {\n",
       "        vertical-align: top;\n",
       "    }\n",
       "\n",
       "    .dataframe thead th {\n",
       "        text-align: right;\n",
       "    }\n",
       "</style>\n",
       "<table border=\"1\" class=\"dataframe\">\n",
       "  <thead>\n",
       "    <tr style=\"text-align: right;\">\n",
       "      <th></th>\n",
       "      <th>ID</th>\n",
       "      <th>RESTAURANT NAME</th>\n",
       "      <th>ADDRESS</th>\n",
       "    </tr>\n",
       "  </thead>\n",
       "  <tbody>\n",
       "    <tr>\n",
       "      <th>0</th>\n",
       "      <td>30112340</td>\n",
       "      <td>WENDY'S</td>\n",
       "      <td>469 FLATBUSH AVENUE BROOKLYN NY 11225</td>\n",
       "    </tr>\n",
       "    <tr>\n",
       "      <th>1</th>\n",
       "      <td>40356483</td>\n",
       "      <td>WILKEN'S FINE FOOD</td>\n",
       "      <td>7114 AVENUE U BROOKLYN NY 11234</td>\n",
       "    </tr>\n",
       "    <tr>\n",
       "      <th>2</th>\n",
       "      <td>40359705</td>\n",
       "      <td>NATHAN'S FAMOUS</td>\n",
       "      <td>1310 SURF AVENUE BROOKLYN NY 11224</td>\n",
       "    </tr>\n",
       "    <tr>\n",
       "      <th>3</th>\n",
       "      <td>40362274</td>\n",
       "      <td>ANGELIKA FILM CENTER</td>\n",
       "      <td>18 WEST HOUSTON STREET MANHATTAN NY 10012</td>\n",
       "    </tr>\n",
       "    <tr>\n",
       "      <th>4</th>\n",
       "      <td>40362432</td>\n",
       "      <td>HO MEI RESTAURANT</td>\n",
       "      <td>10305 37 AVENUE QUEENS NY 11368</td>\n",
       "    </tr>\n",
       "  </tbody>\n",
       "</table>\n",
       "</div>"
      ],
      "text/plain": [
       "         ID       RESTAURANT NAME                                    ADDRESS\n",
       "0  30112340               WENDY'S      469 FLATBUSH AVENUE BROOKLYN NY 11225\n",
       "1  40356483    WILKEN'S FINE FOOD            7114 AVENUE U BROOKLYN NY 11234\n",
       "2  40359705       NATHAN'S FAMOUS         1310 SURF AVENUE BROOKLYN NY 11224\n",
       "3  40362274  ANGELIKA FILM CENTER  18 WEST HOUSTON STREET MANHATTAN NY 10012\n",
       "4  40362432     HO MEI RESTAURANT            10305 37 AVENUE QUEENS NY 11368"
      ]
     },
     "execution_count": 3,
     "metadata": {},
     "output_type": "execute_result"
    }
   ],
   "source": [
    "data.head()"
   ]
  },
  {
   "cell_type": "code",
   "execution_count": 4,
   "metadata": {},
   "outputs": [],
   "source": [
    "# create a new dataframe with a list of unique addresses\n",
    "addresses = pd.DataFrame(data.ADDRESS.unique().tolist(), columns=['ADDRESS']).copy()"
   ]
  },
  {
   "cell_type": "code",
   "execution_count": 5,
   "metadata": {},
   "outputs": [
    {
     "data": {
      "text/html": [
       "<div>\n",
       "<style scoped>\n",
       "    .dataframe tbody tr th:only-of-type {\n",
       "        vertical-align: middle;\n",
       "    }\n",
       "\n",
       "    .dataframe tbody tr th {\n",
       "        vertical-align: top;\n",
       "    }\n",
       "\n",
       "    .dataframe thead th {\n",
       "        text-align: right;\n",
       "    }\n",
       "</style>\n",
       "<table border=\"1\" class=\"dataframe\">\n",
       "  <thead>\n",
       "    <tr style=\"text-align: right;\">\n",
       "      <th></th>\n",
       "      <th>ADDRESS</th>\n",
       "    </tr>\n",
       "  </thead>\n",
       "  <tbody>\n",
       "    <tr>\n",
       "      <th>0</th>\n",
       "      <td>469 FLATBUSH AVENUE BROOKLYN NY 11225</td>\n",
       "    </tr>\n",
       "    <tr>\n",
       "      <th>1</th>\n",
       "      <td>7114 AVENUE U BROOKLYN NY 11234</td>\n",
       "    </tr>\n",
       "    <tr>\n",
       "      <th>2</th>\n",
       "      <td>1310 SURF AVENUE BROOKLYN NY 11224</td>\n",
       "    </tr>\n",
       "    <tr>\n",
       "      <th>3</th>\n",
       "      <td>18 WEST HOUSTON STREET MANHATTAN NY 10012</td>\n",
       "    </tr>\n",
       "    <tr>\n",
       "      <th>4</th>\n",
       "      <td>10305 37 AVENUE QUEENS NY 11368</td>\n",
       "    </tr>\n",
       "  </tbody>\n",
       "</table>\n",
       "</div>"
      ],
      "text/plain": [
       "                                     ADDRESS\n",
       "0      469 FLATBUSH AVENUE BROOKLYN NY 11225\n",
       "1            7114 AVENUE U BROOKLYN NY 11234\n",
       "2         1310 SURF AVENUE BROOKLYN NY 11224\n",
       "3  18 WEST HOUSTON STREET MANHATTAN NY 10012\n",
       "4            10305 37 AVENUE QUEENS NY 11368"
      ]
     },
     "execution_count": 5,
     "metadata": {},
     "output_type": "execute_result"
    }
   ],
   "source": [
    "addresses.head()"
   ]
  },
  {
   "cell_type": "code",
   "execution_count": 6,
   "metadata": {},
   "outputs": [
    {
     "name": "stdout",
     "output_type": "stream",
     "text": [
      "<class 'pandas.core.frame.DataFrame'>\n",
      "RangeIndex: 9209 entries, 0 to 9208\n",
      "Data columns (total 1 columns):\n",
      "ADDRESS    9209 non-null object\n",
      "dtypes: object(1)\n",
      "memory usage: 72.0+ KB\n"
     ]
    }
   ],
   "source": [
    "addresses.info()"
   ]
  },
  {
   "cell_type": "markdown",
   "metadata": {},
   "source": [
    "# Subset Data & Geocoding"
   ]
  },
  {
   "cell_type": "markdown",
   "metadata": {},
   "source": [
    "After obtaining the list of restaurant addresses, they are fed through the geocoder in chunks of 100 to obtain the coordinates, which will then be saved to be used for visualization later."
   ]
  },
  {
   "cell_type": "code",
   "execution_count": 7,
   "metadata": {},
   "outputs": [],
   "source": [
    "# create a subset of data to run through geocoder\n",
    "subset = addresses[:100].reset_index().copy()"
   ]
  },
  {
   "cell_type": "code",
   "execution_count": 8,
   "metadata": {},
   "outputs": [],
   "source": [
    "# create an instance of the geocoder\n",
    "geolocator = Nominatim(user_agent=\"inspections_locations\")"
   ]
  },
  {
   "cell_type": "code",
   "execution_count": 9,
   "metadata": {},
   "outputs": [],
   "source": [
    "# create an instance or geocoder object with rate limit implemented\n",
    "geocode = RateLimiter(geolocator.geocode, min_delay_seconds=1, max_retries=0)"
   ]
  },
  {
   "cell_type": "code",
   "execution_count": 10,
   "metadata": {},
   "outputs": [],
   "source": [
    "# create a new column in dataframe for storing the location details from geocoding\n",
    "subset['LOCATION'] = subset['ADDRESS'].apply(geocode)"
   ]
  },
  {
   "cell_type": "code",
   "execution_count": 11,
   "metadata": {},
   "outputs": [
    {
     "data": {
      "text/html": [
       "<div>\n",
       "<style scoped>\n",
       "    .dataframe tbody tr th:only-of-type {\n",
       "        vertical-align: middle;\n",
       "    }\n",
       "\n",
       "    .dataframe tbody tr th {\n",
       "        vertical-align: top;\n",
       "    }\n",
       "\n",
       "    .dataframe thead th {\n",
       "        text-align: right;\n",
       "    }\n",
       "</style>\n",
       "<table border=\"1\" class=\"dataframe\">\n",
       "  <thead>\n",
       "    <tr style=\"text-align: right;\">\n",
       "      <th></th>\n",
       "      <th>index</th>\n",
       "      <th>ADDRESS</th>\n",
       "      <th>LOCATION</th>\n",
       "    </tr>\n",
       "  </thead>\n",
       "  <tbody>\n",
       "    <tr>\n",
       "      <th>0</th>\n",
       "      <td>0</td>\n",
       "      <td>469 FLATBUSH AVENUE BROOKLYN NY 11225</td>\n",
       "      <td>(Wendy's, 469, Flatbush Avenue, Flatbush, BK, ...</td>\n",
       "    </tr>\n",
       "    <tr>\n",
       "      <th>1</th>\n",
       "      <td>1</td>\n",
       "      <td>7114 AVENUE U BROOKLYN NY 11234</td>\n",
       "      <td>(Wilkens Fine Foods, 7114, Avenue U, Bergen Be...</td>\n",
       "    </tr>\n",
       "    <tr>\n",
       "      <th>2</th>\n",
       "      <td>2</td>\n",
       "      <td>1310 SURF AVENUE BROOKLYN NY 11224</td>\n",
       "      <td>(Nathan's Famous, 1310, Surf Avenue, West Brig...</td>\n",
       "    </tr>\n",
       "    <tr>\n",
       "      <th>3</th>\n",
       "      <td>3</td>\n",
       "      <td>18 WEST HOUSTON STREET MANHATTAN NY 10012</td>\n",
       "      <td>(18, West Houston Street, NoHo, Manhattan Comm...</td>\n",
       "    </tr>\n",
       "    <tr>\n",
       "      <th>4</th>\n",
       "      <td>4</td>\n",
       "      <td>10305 37 AVENUE QUEENS NY 11368</td>\n",
       "      <td>None</td>\n",
       "    </tr>\n",
       "  </tbody>\n",
       "</table>\n",
       "</div>"
      ],
      "text/plain": [
       "   index                                    ADDRESS  \\\n",
       "0      0      469 FLATBUSH AVENUE BROOKLYN NY 11225   \n",
       "1      1            7114 AVENUE U BROOKLYN NY 11234   \n",
       "2      2         1310 SURF AVENUE BROOKLYN NY 11224   \n",
       "3      3  18 WEST HOUSTON STREET MANHATTAN NY 10012   \n",
       "4      4            10305 37 AVENUE QUEENS NY 11368   \n",
       "\n",
       "                                            LOCATION  \n",
       "0  (Wendy's, 469, Flatbush Avenue, Flatbush, BK, ...  \n",
       "1  (Wilkens Fine Foods, 7114, Avenue U, Bergen Be...  \n",
       "2  (Nathan's Famous, 1310, Surf Avenue, West Brig...  \n",
       "3  (18, West Houston Street, NoHo, Manhattan Comm...  \n",
       "4                                               None  "
      ]
     },
     "execution_count": 11,
     "metadata": {},
     "output_type": "execute_result"
    }
   ],
   "source": [
    "subset.head()"
   ]
  },
  {
   "cell_type": "code",
   "execution_count": 12,
   "metadata": {},
   "outputs": [
    {
     "name": "stdout",
     "output_type": "stream",
     "text": [
      "<class 'pandas.core.frame.DataFrame'>\n",
      "RangeIndex: 100 entries, 0 to 99\n",
      "Data columns (total 3 columns):\n",
      "index       100 non-null int64\n",
      "ADDRESS     100 non-null object\n",
      "LOCATION    68 non-null object\n",
      "dtypes: int64(1), object(2)\n",
      "memory usage: 2.4+ KB\n"
     ]
    }
   ],
   "source": [
    "subset.info()"
   ]
  },
  {
   "cell_type": "code",
   "execution_count": 13,
   "metadata": {},
   "outputs": [
    {
     "data": {
      "text/html": [
       "<div>\n",
       "<style scoped>\n",
       "    .dataframe tbody tr th:only-of-type {\n",
       "        vertical-align: middle;\n",
       "    }\n",
       "\n",
       "    .dataframe tbody tr th {\n",
       "        vertical-align: top;\n",
       "    }\n",
       "\n",
       "    .dataframe thead th {\n",
       "        text-align: right;\n",
       "    }\n",
       "</style>\n",
       "<table border=\"1\" class=\"dataframe\">\n",
       "  <thead>\n",
       "    <tr style=\"text-align: right;\">\n",
       "      <th></th>\n",
       "      <th>index</th>\n",
       "      <th>ADDRESS</th>\n",
       "      <th>LOCATION</th>\n",
       "    </tr>\n",
       "  </thead>\n",
       "  <tbody>\n",
       "    <tr>\n",
       "      <th>95</th>\n",
       "      <td>95</td>\n",
       "      <td>7269 KISSENA BOULEVARD QUEENS NY 11367</td>\n",
       "      <td>(Kissena Boulevard, Queens, Queens County, NYC...</td>\n",
       "    </tr>\n",
       "    <tr>\n",
       "      <th>96</th>\n",
       "      <td>96</td>\n",
       "      <td>9402 SUTPHIN BOULEVARD QUEENS NY 11435</td>\n",
       "      <td>(Sutphin Boulevard, Jamaica, Queens, Queens Co...</td>\n",
       "    </tr>\n",
       "    <tr>\n",
       "      <th>97</th>\n",
       "      <td>97</td>\n",
       "      <td>8207 153 AVENUE QUEENS NY 11414</td>\n",
       "      <td>None</td>\n",
       "    </tr>\n",
       "    <tr>\n",
       "      <th>98</th>\n",
       "      <td>98</td>\n",
       "      <td>9615 LIBERTY AVENUE QUEENS NY 11417</td>\n",
       "      <td>(Liberty Avenue, Jamaica, Queens, Queens Count...</td>\n",
       "    </tr>\n",
       "    <tr>\n",
       "      <th>99</th>\n",
       "      <td>99</td>\n",
       "      <td>7720 18 AVENUE BROOKLYN NY 11214</td>\n",
       "      <td>None</td>\n",
       "    </tr>\n",
       "  </tbody>\n",
       "</table>\n",
       "</div>"
      ],
      "text/plain": [
       "    index                                 ADDRESS  \\\n",
       "95     95  7269 KISSENA BOULEVARD QUEENS NY 11367   \n",
       "96     96  9402 SUTPHIN BOULEVARD QUEENS NY 11435   \n",
       "97     97         8207 153 AVENUE QUEENS NY 11414   \n",
       "98     98     9615 LIBERTY AVENUE QUEENS NY 11417   \n",
       "99     99        7720 18 AVENUE BROOKLYN NY 11214   \n",
       "\n",
       "                                             LOCATION  \n",
       "95  (Kissena Boulevard, Queens, Queens County, NYC...  \n",
       "96  (Sutphin Boulevard, Jamaica, Queens, Queens Co...  \n",
       "97                                               None  \n",
       "98  (Liberty Avenue, Jamaica, Queens, Queens Count...  \n",
       "99                                               None  "
      ]
     },
     "execution_count": 13,
     "metadata": {},
     "output_type": "execute_result"
    }
   ],
   "source": [
    "subset.tail()"
   ]
  },
  {
   "cell_type": "code",
   "execution_count": 14,
   "metadata": {},
   "outputs": [],
   "source": [
    "# create a new column called POINT and fill column with coordinates as tuple pulled from the Location column\n",
    "subset['POINT'] = subset['LOCATION'].apply(lambda LOC: tuple(LOC.point) if LOC else None)"
   ]
  },
  {
   "cell_type": "code",
   "execution_count": 15,
   "metadata": {},
   "outputs": [
    {
     "data": {
      "text/html": [
       "<div>\n",
       "<style scoped>\n",
       "    .dataframe tbody tr th:only-of-type {\n",
       "        vertical-align: middle;\n",
       "    }\n",
       "\n",
       "    .dataframe tbody tr th {\n",
       "        vertical-align: top;\n",
       "    }\n",
       "\n",
       "    .dataframe thead th {\n",
       "        text-align: right;\n",
       "    }\n",
       "</style>\n",
       "<table border=\"1\" class=\"dataframe\">\n",
       "  <thead>\n",
       "    <tr style=\"text-align: right;\">\n",
       "      <th></th>\n",
       "      <th>index</th>\n",
       "      <th>ADDRESS</th>\n",
       "      <th>LOCATION</th>\n",
       "      <th>POINT</th>\n",
       "    </tr>\n",
       "  </thead>\n",
       "  <tbody>\n",
       "    <tr>\n",
       "      <th>0</th>\n",
       "      <td>0</td>\n",
       "      <td>469 FLATBUSH AVENUE BROOKLYN NY 11225</td>\n",
       "      <td>(Wendy's, 469, Flatbush Avenue, Flatbush, BK, ...</td>\n",
       "      <td>(40.66293035, -73.9617257983564, 0.0)</td>\n",
       "    </tr>\n",
       "    <tr>\n",
       "      <th>1</th>\n",
       "      <td>1</td>\n",
       "      <td>7114 AVENUE U BROOKLYN NY 11234</td>\n",
       "      <td>(Wilkens Fine Foods, 7114, Avenue U, Bergen Be...</td>\n",
       "      <td>(40.619892, -73.9068502510335, 0.0)</td>\n",
       "    </tr>\n",
       "    <tr>\n",
       "      <th>2</th>\n",
       "      <td>2</td>\n",
       "      <td>1310 SURF AVENUE BROOKLYN NY 11224</td>\n",
       "      <td>(Nathan's Famous, 1310, Surf Avenue, West Brig...</td>\n",
       "      <td>(40.57530105, -73.9814687031484, 0.0)</td>\n",
       "    </tr>\n",
       "    <tr>\n",
       "      <th>3</th>\n",
       "      <td>3</td>\n",
       "      <td>18 WEST HOUSTON STREET MANHATTAN NY 10012</td>\n",
       "      <td>(18, West Houston Street, NoHo, Manhattan Comm...</td>\n",
       "      <td>(40.7257247, -73.9970561, 0.0)</td>\n",
       "    </tr>\n",
       "    <tr>\n",
       "      <th>4</th>\n",
       "      <td>4</td>\n",
       "      <td>10305 37 AVENUE QUEENS NY 11368</td>\n",
       "      <td>None</td>\n",
       "      <td>None</td>\n",
       "    </tr>\n",
       "  </tbody>\n",
       "</table>\n",
       "</div>"
      ],
      "text/plain": [
       "   index                                    ADDRESS  \\\n",
       "0      0      469 FLATBUSH AVENUE BROOKLYN NY 11225   \n",
       "1      1            7114 AVENUE U BROOKLYN NY 11234   \n",
       "2      2         1310 SURF AVENUE BROOKLYN NY 11224   \n",
       "3      3  18 WEST HOUSTON STREET MANHATTAN NY 10012   \n",
       "4      4            10305 37 AVENUE QUEENS NY 11368   \n",
       "\n",
       "                                            LOCATION  \\\n",
       "0  (Wendy's, 469, Flatbush Avenue, Flatbush, BK, ...   \n",
       "1  (Wilkens Fine Foods, 7114, Avenue U, Bergen Be...   \n",
       "2  (Nathan's Famous, 1310, Surf Avenue, West Brig...   \n",
       "3  (18, West Houston Street, NoHo, Manhattan Comm...   \n",
       "4                                               None   \n",
       "\n",
       "                                   POINT  \n",
       "0  (40.66293035, -73.9617257983564, 0.0)  \n",
       "1    (40.619892, -73.9068502510335, 0.0)  \n",
       "2  (40.57530105, -73.9814687031484, 0.0)  \n",
       "3         (40.7257247, -73.9970561, 0.0)  \n",
       "4                                   None  "
      ]
     },
     "execution_count": 15,
     "metadata": {},
     "output_type": "execute_result"
    }
   ],
   "source": [
    "subset.head()"
   ]
  },
  {
   "cell_type": "code",
   "execution_count": 16,
   "metadata": {},
   "outputs": [],
   "source": [
    "# create second subset of data from addresses dataframe of 100 addresses\n",
    "subset2 = addresses[100:200].reset_index().copy()"
   ]
  },
  {
   "cell_type": "code",
   "execution_count": 17,
   "metadata": {},
   "outputs": [
    {
     "name": "stdout",
     "output_type": "stream",
     "text": [
      "<class 'pandas.core.frame.DataFrame'>\n",
      "RangeIndex: 100 entries, 0 to 99\n",
      "Data columns (total 2 columns):\n",
      "index      100 non-null int64\n",
      "ADDRESS    100 non-null object\n",
      "dtypes: int64(1), object(1)\n",
      "memory usage: 1.6+ KB\n"
     ]
    }
   ],
   "source": [
    "subset2.info()"
   ]
  },
  {
   "cell_type": "code",
   "execution_count": 18,
   "metadata": {},
   "outputs": [
    {
     "data": {
      "text/html": [
       "<div>\n",
       "<style scoped>\n",
       "    .dataframe tbody tr th:only-of-type {\n",
       "        vertical-align: middle;\n",
       "    }\n",
       "\n",
       "    .dataframe tbody tr th {\n",
       "        vertical-align: top;\n",
       "    }\n",
       "\n",
       "    .dataframe thead th {\n",
       "        text-align: right;\n",
       "    }\n",
       "</style>\n",
       "<table border=\"1\" class=\"dataframe\">\n",
       "  <thead>\n",
       "    <tr style=\"text-align: right;\">\n",
       "      <th></th>\n",
       "      <th>index</th>\n",
       "      <th>ADDRESS</th>\n",
       "    </tr>\n",
       "  </thead>\n",
       "  <tbody>\n",
       "    <tr>\n",
       "      <th>0</th>\n",
       "      <td>100</td>\n",
       "      <td>10102 103 AVENUE QUEENS NY 11417</td>\n",
       "    </tr>\n",
       "    <tr>\n",
       "      <th>1</th>\n",
       "      <td>101</td>\n",
       "      <td>500 FOREST AVENUE STATEN ISLAND NY 10310</td>\n",
       "    </tr>\n",
       "    <tr>\n",
       "      <th>2</th>\n",
       "      <td>102</td>\n",
       "      <td>500 EAST   30 STREET MANHATTAN NY 10016</td>\n",
       "    </tr>\n",
       "    <tr>\n",
       "      <th>3</th>\n",
       "      <td>103</td>\n",
       "      <td>345 COURT STREET BROOKLYN NY 11231</td>\n",
       "    </tr>\n",
       "    <tr>\n",
       "      <th>4</th>\n",
       "      <td>104</td>\n",
       "      <td>906 7 AVENUE MANHATTAN NY 10019</td>\n",
       "    </tr>\n",
       "  </tbody>\n",
       "</table>\n",
       "</div>"
      ],
      "text/plain": [
       "   index                                   ADDRESS\n",
       "0    100          10102 103 AVENUE QUEENS NY 11417\n",
       "1    101  500 FOREST AVENUE STATEN ISLAND NY 10310\n",
       "2    102   500 EAST   30 STREET MANHATTAN NY 10016\n",
       "3    103        345 COURT STREET BROOKLYN NY 11231\n",
       "4    104           906 7 AVENUE MANHATTAN NY 10019"
      ]
     },
     "execution_count": 18,
     "metadata": {},
     "output_type": "execute_result"
    }
   ],
   "source": [
    "subset2.head()"
   ]
  },
  {
   "cell_type": "code",
   "execution_count": 19,
   "metadata": {},
   "outputs": [],
   "source": [
    "# create a new column in dataframe for storing the location details from geocoding\n",
    "subset2['LOCATION'] = subset2['ADDRESS'].apply(geocode)"
   ]
  },
  {
   "cell_type": "code",
   "execution_count": 20,
   "metadata": {},
   "outputs": [
    {
     "data": {
      "text/html": [
       "<div>\n",
       "<style scoped>\n",
       "    .dataframe tbody tr th:only-of-type {\n",
       "        vertical-align: middle;\n",
       "    }\n",
       "\n",
       "    .dataframe tbody tr th {\n",
       "        vertical-align: top;\n",
       "    }\n",
       "\n",
       "    .dataframe thead th {\n",
       "        text-align: right;\n",
       "    }\n",
       "</style>\n",
       "<table border=\"1\" class=\"dataframe\">\n",
       "  <thead>\n",
       "    <tr style=\"text-align: right;\">\n",
       "      <th></th>\n",
       "      <th>index</th>\n",
       "      <th>ADDRESS</th>\n",
       "      <th>LOCATION</th>\n",
       "    </tr>\n",
       "  </thead>\n",
       "  <tbody>\n",
       "    <tr>\n",
       "      <th>0</th>\n",
       "      <td>100</td>\n",
       "      <td>10102 103 AVENUE QUEENS NY 11417</td>\n",
       "      <td>None</td>\n",
       "    </tr>\n",
       "    <tr>\n",
       "      <th>1</th>\n",
       "      <td>101</td>\n",
       "      <td>500 FOREST AVENUE STATEN ISLAND NY 10310</td>\n",
       "      <td>(500, Forest Avenue, West New Brighton, Todt H...</td>\n",
       "    </tr>\n",
       "    <tr>\n",
       "      <th>2</th>\n",
       "      <td>102</td>\n",
       "      <td>500 EAST   30 STREET MANHATTAN NY 10016</td>\n",
       "      <td>None</td>\n",
       "    </tr>\n",
       "    <tr>\n",
       "      <th>3</th>\n",
       "      <td>103</td>\n",
       "      <td>345 COURT STREET BROOKLYN NY 11231</td>\n",
       "      <td>(Marco Polo Ristorante, 345, Court Street, Car...</td>\n",
       "    </tr>\n",
       "    <tr>\n",
       "      <th>4</th>\n",
       "      <td>104</td>\n",
       "      <td>906 7 AVENUE MANHATTAN NY 10019</td>\n",
       "      <td>None</td>\n",
       "    </tr>\n",
       "  </tbody>\n",
       "</table>\n",
       "</div>"
      ],
      "text/plain": [
       "   index                                   ADDRESS  \\\n",
       "0    100          10102 103 AVENUE QUEENS NY 11417   \n",
       "1    101  500 FOREST AVENUE STATEN ISLAND NY 10310   \n",
       "2    102   500 EAST   30 STREET MANHATTAN NY 10016   \n",
       "3    103        345 COURT STREET BROOKLYN NY 11231   \n",
       "4    104           906 7 AVENUE MANHATTAN NY 10019   \n",
       "\n",
       "                                            LOCATION  \n",
       "0                                               None  \n",
       "1  (500, Forest Avenue, West New Brighton, Todt H...  \n",
       "2                                               None  \n",
       "3  (Marco Polo Ristorante, 345, Court Street, Car...  \n",
       "4                                               None  "
      ]
     },
     "execution_count": 20,
     "metadata": {},
     "output_type": "execute_result"
    }
   ],
   "source": [
    "subset2.head()"
   ]
  },
  {
   "cell_type": "code",
   "execution_count": 21,
   "metadata": {},
   "outputs": [],
   "source": [
    "# create a new column called POINT and fill column with coordinates as tuple pulled from the Location column\n",
    "subset2['POINT'] = subset2['LOCATION'].apply(lambda LOC: tuple(LOC.point) if LOC else None)"
   ]
  },
  {
   "cell_type": "code",
   "execution_count": 22,
   "metadata": {},
   "outputs": [
    {
     "name": "stdout",
     "output_type": "stream",
     "text": [
      "<class 'pandas.core.frame.DataFrame'>\n",
      "RangeIndex: 100 entries, 0 to 99\n",
      "Data columns (total 4 columns):\n",
      "index       100 non-null int64\n",
      "ADDRESS     100 non-null object\n",
      "LOCATION    63 non-null object\n",
      "POINT       63 non-null object\n",
      "dtypes: int64(1), object(3)\n",
      "memory usage: 3.2+ KB\n"
     ]
    }
   ],
   "source": [
    "subset2.info()"
   ]
  },
  {
   "cell_type": "code",
   "execution_count": 23,
   "metadata": {},
   "outputs": [],
   "source": [
    "# create third subset of data from addresses dataframe of 100 addresses\n",
    "subset3 = addresses[200:300].reset_index().copy()"
   ]
  },
  {
   "cell_type": "code",
   "execution_count": 24,
   "metadata": {},
   "outputs": [
    {
     "name": "stdout",
     "output_type": "stream",
     "text": [
      "<class 'pandas.core.frame.DataFrame'>\n",
      "RangeIndex: 100 entries, 0 to 99\n",
      "Data columns (total 2 columns):\n",
      "index      100 non-null int64\n",
      "ADDRESS    100 non-null object\n",
      "dtypes: int64(1), object(1)\n",
      "memory usage: 1.6+ KB\n"
     ]
    }
   ],
   "source": [
    "subset3.info()"
   ]
  },
  {
   "cell_type": "code",
   "execution_count": 25,
   "metadata": {},
   "outputs": [],
   "source": [
    "# create a new column in dataframe for storing the location details from geocoding\n",
    "subset3['LOCATION'] = subset3['ADDRESS'].apply(geocode)"
   ]
  },
  {
   "cell_type": "code",
   "execution_count": 26,
   "metadata": {},
   "outputs": [],
   "source": [
    "# create a new column called POINT and fill column with coordinates as tuple pulled from the Location column\n",
    "subset3['POINT'] = subset3['LOCATION'].apply(lambda LOC: tuple(LOC.point) if LOC else None)"
   ]
  },
  {
   "cell_type": "code",
   "execution_count": 27,
   "metadata": {},
   "outputs": [],
   "source": [
    "# create fourth subset of data from addresses dataframe of 100 addresses\n",
    "subset4 = addresses[300:400].reset_index().copy()"
   ]
  },
  {
   "cell_type": "code",
   "execution_count": 28,
   "metadata": {},
   "outputs": [
    {
     "name": "stdout",
     "output_type": "stream",
     "text": [
      "<class 'pandas.core.frame.DataFrame'>\n",
      "RangeIndex: 100 entries, 0 to 99\n",
      "Data columns (total 2 columns):\n",
      "index      100 non-null int64\n",
      "ADDRESS    100 non-null object\n",
      "dtypes: int64(1), object(1)\n",
      "memory usage: 1.6+ KB\n"
     ]
    }
   ],
   "source": [
    "subset4.info()"
   ]
  },
  {
   "cell_type": "code",
   "execution_count": 29,
   "metadata": {},
   "outputs": [],
   "source": [
    "# create a new column in dataframe for storing the location details from geocoding\n",
    "subset4['LOCATION'] = subset4['ADDRESS'].apply(geocode)"
   ]
  },
  {
   "cell_type": "code",
   "execution_count": 30,
   "metadata": {},
   "outputs": [
    {
     "data": {
      "text/html": [
       "<div>\n",
       "<style scoped>\n",
       "    .dataframe tbody tr th:only-of-type {\n",
       "        vertical-align: middle;\n",
       "    }\n",
       "\n",
       "    .dataframe tbody tr th {\n",
       "        vertical-align: top;\n",
       "    }\n",
       "\n",
       "    .dataframe thead th {\n",
       "        text-align: right;\n",
       "    }\n",
       "</style>\n",
       "<table border=\"1\" class=\"dataframe\">\n",
       "  <thead>\n",
       "    <tr style=\"text-align: right;\">\n",
       "      <th></th>\n",
       "      <th>index</th>\n",
       "      <th>ADDRESS</th>\n",
       "      <th>LOCATION</th>\n",
       "    </tr>\n",
       "  </thead>\n",
       "  <tbody>\n",
       "    <tr>\n",
       "      <th>0</th>\n",
       "      <td>300</td>\n",
       "      <td>1650 BROADWAY MANHATTAN NY 10019</td>\n",
       "      <td>(Iridium Jazz Club, 1650, Broadway, Times Squa...</td>\n",
       "    </tr>\n",
       "    <tr>\n",
       "      <th>1</th>\n",
       "      <td>301</td>\n",
       "      <td>47 BOND STREET MANHATTAN NY 10012</td>\n",
       "      <td>(il Buco, 47, Bond Street, NoHo, Manhattan Com...</td>\n",
       "    </tr>\n",
       "    <tr>\n",
       "      <th>2</th>\n",
       "      <td>302</td>\n",
       "      <td>209 EAST    5 STREET MANHATTAN NY 10003</td>\n",
       "      <td>None</td>\n",
       "    </tr>\n",
       "    <tr>\n",
       "      <th>3</th>\n",
       "      <td>303</td>\n",
       "      <td>351 EAST  103 STREET MANHATTAN NY 10029</td>\n",
       "      <td>None</td>\n",
       "    </tr>\n",
       "    <tr>\n",
       "      <th>4</th>\n",
       "      <td>304</td>\n",
       "      <td>40 EXCHANGE PLACE MANHATTAN NY 10005</td>\n",
       "      <td>(The Irish Punt, 40, Exchange Place, Financial...</td>\n",
       "    </tr>\n",
       "  </tbody>\n",
       "</table>\n",
       "</div>"
      ],
      "text/plain": [
       "   index                                  ADDRESS  \\\n",
       "0    300         1650 BROADWAY MANHATTAN NY 10019   \n",
       "1    301        47 BOND STREET MANHATTAN NY 10012   \n",
       "2    302  209 EAST    5 STREET MANHATTAN NY 10003   \n",
       "3    303  351 EAST  103 STREET MANHATTAN NY 10029   \n",
       "4    304     40 EXCHANGE PLACE MANHATTAN NY 10005   \n",
       "\n",
       "                                            LOCATION  \n",
       "0  (Iridium Jazz Club, 1650, Broadway, Times Squa...  \n",
       "1  (il Buco, 47, Bond Street, NoHo, Manhattan Com...  \n",
       "2                                               None  \n",
       "3                                               None  \n",
       "4  (The Irish Punt, 40, Exchange Place, Financial...  "
      ]
     },
     "execution_count": 30,
     "metadata": {},
     "output_type": "execute_result"
    }
   ],
   "source": [
    "subset4.head()"
   ]
  },
  {
   "cell_type": "code",
   "execution_count": 31,
   "metadata": {},
   "outputs": [],
   "source": [
    "# create fifth subset of data from addresses dataframe of 100 addresses\n",
    "subset5 = addresses[400:500].reset_index().copy()"
   ]
  },
  {
   "cell_type": "code",
   "execution_count": 32,
   "metadata": {},
   "outputs": [],
   "source": [
    "# create a new column in dataframe for storing the location details from geocoding\n",
    "subset5['LOCATION'] = subset5['ADDRESS'].apply(geocode)"
   ]
  },
  {
   "cell_type": "code",
   "execution_count": 33,
   "metadata": {},
   "outputs": [
    {
     "data": {
      "text/html": [
       "<div>\n",
       "<style scoped>\n",
       "    .dataframe tbody tr th:only-of-type {\n",
       "        vertical-align: middle;\n",
       "    }\n",
       "\n",
       "    .dataframe tbody tr th {\n",
       "        vertical-align: top;\n",
       "    }\n",
       "\n",
       "    .dataframe thead th {\n",
       "        text-align: right;\n",
       "    }\n",
       "</style>\n",
       "<table border=\"1\" class=\"dataframe\">\n",
       "  <thead>\n",
       "    <tr style=\"text-align: right;\">\n",
       "      <th></th>\n",
       "      <th>index</th>\n",
       "      <th>ADDRESS</th>\n",
       "      <th>LOCATION</th>\n",
       "    </tr>\n",
       "  </thead>\n",
       "  <tbody>\n",
       "    <tr>\n",
       "      <th>0</th>\n",
       "      <td>400</td>\n",
       "      <td>2845 RICHMOND AVENUE STATEN ISLAND NY 10314</td>\n",
       "      <td>(2845, Richmond Avenue, Greenridge, Staten Isl...</td>\n",
       "    </tr>\n",
       "    <tr>\n",
       "      <th>1</th>\n",
       "      <td>401</td>\n",
       "      <td>229 EAST   84 STREET MANHATTAN NY 10028</td>\n",
       "      <td>None</td>\n",
       "    </tr>\n",
       "    <tr>\n",
       "      <th>2</th>\n",
       "      <td>402</td>\n",
       "      <td>8905 NORTHERN BOULEVARD QUEENS NY 11372</td>\n",
       "      <td>(Northern Boulevard, Jackson Heights, Queens, ...</td>\n",
       "    </tr>\n",
       "    <tr>\n",
       "      <th>3</th>\n",
       "      <td>403</td>\n",
       "      <td>171 7 AVENUE BROOKLYN NY 11215</td>\n",
       "      <td>(171, Avenue Y, Gravesend, BK, Kings County, N...</td>\n",
       "    </tr>\n",
       "    <tr>\n",
       "      <th>4</th>\n",
       "      <td>404</td>\n",
       "      <td>29 ST MARKS PLACE MANHATTAN NY 10003</td>\n",
       "      <td>(29, Saint Mark's Place, East Village, Manhatt...</td>\n",
       "    </tr>\n",
       "  </tbody>\n",
       "</table>\n",
       "</div>"
      ],
      "text/plain": [
       "   index                                      ADDRESS  \\\n",
       "0    400  2845 RICHMOND AVENUE STATEN ISLAND NY 10314   \n",
       "1    401      229 EAST   84 STREET MANHATTAN NY 10028   \n",
       "2    402      8905 NORTHERN BOULEVARD QUEENS NY 11372   \n",
       "3    403               171 7 AVENUE BROOKLYN NY 11215   \n",
       "4    404         29 ST MARKS PLACE MANHATTAN NY 10003   \n",
       "\n",
       "                                            LOCATION  \n",
       "0  (2845, Richmond Avenue, Greenridge, Staten Isl...  \n",
       "1                                               None  \n",
       "2  (Northern Boulevard, Jackson Heights, Queens, ...  \n",
       "3  (171, Avenue Y, Gravesend, BK, Kings County, N...  \n",
       "4  (29, Saint Mark's Place, East Village, Manhatt...  "
      ]
     },
     "execution_count": 33,
     "metadata": {},
     "output_type": "execute_result"
    }
   ],
   "source": [
    "subset5.head()"
   ]
  },
  {
   "cell_type": "code",
   "execution_count": 34,
   "metadata": {},
   "outputs": [],
   "source": [
    "# create a new column called POINT and fill column with coordinates as tuple pulled from the Location column\n",
    "subset5['POINT'] = subset5['LOCATION'].apply(lambda LOC: tuple(LOC.point) if LOC else None)"
   ]
  },
  {
   "cell_type": "code",
   "execution_count": 35,
   "metadata": {},
   "outputs": [
    {
     "data": {
      "text/html": [
       "<div>\n",
       "<style scoped>\n",
       "    .dataframe tbody tr th:only-of-type {\n",
       "        vertical-align: middle;\n",
       "    }\n",
       "\n",
       "    .dataframe tbody tr th {\n",
       "        vertical-align: top;\n",
       "    }\n",
       "\n",
       "    .dataframe thead th {\n",
       "        text-align: right;\n",
       "    }\n",
       "</style>\n",
       "<table border=\"1\" class=\"dataframe\">\n",
       "  <thead>\n",
       "    <tr style=\"text-align: right;\">\n",
       "      <th></th>\n",
       "      <th>index</th>\n",
       "      <th>ADDRESS</th>\n",
       "      <th>LOCATION</th>\n",
       "      <th>POINT</th>\n",
       "    </tr>\n",
       "  </thead>\n",
       "  <tbody>\n",
       "    <tr>\n",
       "      <th>0</th>\n",
       "      <td>400</td>\n",
       "      <td>2845 RICHMOND AVENUE STATEN ISLAND NY 10314</td>\n",
       "      <td>(2845, Richmond Avenue, Greenridge, Staten Isl...</td>\n",
       "      <td>(40.57588825, -74.1680247649206, 0.0)</td>\n",
       "    </tr>\n",
       "    <tr>\n",
       "      <th>1</th>\n",
       "      <td>401</td>\n",
       "      <td>229 EAST   84 STREET MANHATTAN NY 10028</td>\n",
       "      <td>None</td>\n",
       "      <td>None</td>\n",
       "    </tr>\n",
       "    <tr>\n",
       "      <th>2</th>\n",
       "      <td>402</td>\n",
       "      <td>8905 NORTHERN BOULEVARD QUEENS NY 11372</td>\n",
       "      <td>(Northern Boulevard, Jackson Heights, Queens, ...</td>\n",
       "      <td>(40.7557606, -73.8838522, 0.0)</td>\n",
       "    </tr>\n",
       "    <tr>\n",
       "      <th>3</th>\n",
       "      <td>403</td>\n",
       "      <td>171 7 AVENUE BROOKLYN NY 11215</td>\n",
       "      <td>(171, Avenue Y, Gravesend, BK, Kings County, N...</td>\n",
       "      <td>(40.5879432265193, -73.9734698839779, 0.0)</td>\n",
       "    </tr>\n",
       "    <tr>\n",
       "      <th>4</th>\n",
       "      <td>404</td>\n",
       "      <td>29 ST MARKS PLACE MANHATTAN NY 10003</td>\n",
       "      <td>(29, Saint Mark's Place, East Village, Manhatt...</td>\n",
       "      <td>(40.72904305, -73.988314799689, 0.0)</td>\n",
       "    </tr>\n",
       "  </tbody>\n",
       "</table>\n",
       "</div>"
      ],
      "text/plain": [
       "   index                                      ADDRESS  \\\n",
       "0    400  2845 RICHMOND AVENUE STATEN ISLAND NY 10314   \n",
       "1    401      229 EAST   84 STREET MANHATTAN NY 10028   \n",
       "2    402      8905 NORTHERN BOULEVARD QUEENS NY 11372   \n",
       "3    403               171 7 AVENUE BROOKLYN NY 11215   \n",
       "4    404         29 ST MARKS PLACE MANHATTAN NY 10003   \n",
       "\n",
       "                                            LOCATION  \\\n",
       "0  (2845, Richmond Avenue, Greenridge, Staten Isl...   \n",
       "1                                               None   \n",
       "2  (Northern Boulevard, Jackson Heights, Queens, ...   \n",
       "3  (171, Avenue Y, Gravesend, BK, Kings County, N...   \n",
       "4  (29, Saint Mark's Place, East Village, Manhatt...   \n",
       "\n",
       "                                        POINT  \n",
       "0       (40.57588825, -74.1680247649206, 0.0)  \n",
       "1                                        None  \n",
       "2              (40.7557606, -73.8838522, 0.0)  \n",
       "3  (40.5879432265193, -73.9734698839779, 0.0)  \n",
       "4        (40.72904305, -73.988314799689, 0.0)  "
      ]
     },
     "execution_count": 35,
     "metadata": {},
     "output_type": "execute_result"
    }
   ],
   "source": [
    "subset5.head()"
   ]
  },
  {
   "cell_type": "code",
   "execution_count": 36,
   "metadata": {},
   "outputs": [],
   "source": [
    "# create a sixth subset of 100 datapoints from addresses dataframe\n",
    "subset6 = addresses[500:600].reset_index().copy()"
   ]
  },
  {
   "cell_type": "code",
   "execution_count": 37,
   "metadata": {},
   "outputs": [],
   "source": [
    "# create a new column in dataframe for storing the location details from geocoding\n",
    "subset6['LOCATION'] = subset6['ADDRESS'].apply(geocode)"
   ]
  },
  {
   "cell_type": "code",
   "execution_count": 38,
   "metadata": {},
   "outputs": [
    {
     "name": "stdout",
     "output_type": "stream",
     "text": [
      "<class 'pandas.core.frame.DataFrame'>\n",
      "RangeIndex: 100 entries, 0 to 99\n",
      "Data columns (total 3 columns):\n",
      "index       100 non-null int64\n",
      "ADDRESS     100 non-null object\n",
      "LOCATION    60 non-null object\n",
      "dtypes: int64(1), object(2)\n",
      "memory usage: 2.4+ KB\n"
     ]
    }
   ],
   "source": [
    "subset6.info()"
   ]
  },
  {
   "cell_type": "code",
   "execution_count": 39,
   "metadata": {},
   "outputs": [
    {
     "data": {
      "text/html": [
       "<div>\n",
       "<style scoped>\n",
       "    .dataframe tbody tr th:only-of-type {\n",
       "        vertical-align: middle;\n",
       "    }\n",
       "\n",
       "    .dataframe tbody tr th {\n",
       "        vertical-align: top;\n",
       "    }\n",
       "\n",
       "    .dataframe thead th {\n",
       "        text-align: right;\n",
       "    }\n",
       "</style>\n",
       "<table border=\"1\" class=\"dataframe\">\n",
       "  <thead>\n",
       "    <tr style=\"text-align: right;\">\n",
       "      <th></th>\n",
       "      <th>index</th>\n",
       "      <th>ADDRESS</th>\n",
       "      <th>LOCATION</th>\n",
       "    </tr>\n",
       "  </thead>\n",
       "  <tbody>\n",
       "    <tr>\n",
       "      <th>0</th>\n",
       "      <td>500</td>\n",
       "      <td>12 EAST   37 STREET MANHATTAN NY 10016</td>\n",
       "      <td>None</td>\n",
       "    </tr>\n",
       "    <tr>\n",
       "      <th>1</th>\n",
       "      <td>501</td>\n",
       "      <td>153 EAST   53 STREET MANHATTAN NY 10022</td>\n",
       "      <td>None</td>\n",
       "    </tr>\n",
       "    <tr>\n",
       "      <th>2</th>\n",
       "      <td>502</td>\n",
       "      <td>50 COURT STREET BROOKLYN NY 11201</td>\n",
       "      <td>(50, Court Street, Cobble Hill, BK, Kings Coun...</td>\n",
       "    </tr>\n",
       "    <tr>\n",
       "      <th>3</th>\n",
       "      <td>503</td>\n",
       "      <td>15 WEST   46 STREET MANHATTAN NY 10036</td>\n",
       "      <td>None</td>\n",
       "    </tr>\n",
       "    <tr>\n",
       "      <th>4</th>\n",
       "      <td>504</td>\n",
       "      <td>2158 8 AVENUE MANHATTAN NY 10026</td>\n",
       "      <td>None</td>\n",
       "    </tr>\n",
       "  </tbody>\n",
       "</table>\n",
       "</div>"
      ],
      "text/plain": [
       "   index                                  ADDRESS  \\\n",
       "0    500   12 EAST   37 STREET MANHATTAN NY 10016   \n",
       "1    501  153 EAST   53 STREET MANHATTAN NY 10022   \n",
       "2    502        50 COURT STREET BROOKLYN NY 11201   \n",
       "3    503   15 WEST   46 STREET MANHATTAN NY 10036   \n",
       "4    504         2158 8 AVENUE MANHATTAN NY 10026   \n",
       "\n",
       "                                            LOCATION  \n",
       "0                                               None  \n",
       "1                                               None  \n",
       "2  (50, Court Street, Cobble Hill, BK, Kings Coun...  \n",
       "3                                               None  \n",
       "4                                               None  "
      ]
     },
     "execution_count": 39,
     "metadata": {},
     "output_type": "execute_result"
    }
   ],
   "source": [
    "subset6.head()"
   ]
  },
  {
   "cell_type": "code",
   "execution_count": 40,
   "metadata": {},
   "outputs": [],
   "source": [
    "# create a new column called POINT and fill column with coordinates as tuple pulled from the Location column\n",
    "subset6['POINT'] = subset6['LOCATION'].apply(lambda LOC: tuple(LOC.point) if LOC else None)"
   ]
  },
  {
   "cell_type": "code",
   "execution_count": 41,
   "metadata": {},
   "outputs": [
    {
     "data": {
      "text/html": [
       "<div>\n",
       "<style scoped>\n",
       "    .dataframe tbody tr th:only-of-type {\n",
       "        vertical-align: middle;\n",
       "    }\n",
       "\n",
       "    .dataframe tbody tr th {\n",
       "        vertical-align: top;\n",
       "    }\n",
       "\n",
       "    .dataframe thead th {\n",
       "        text-align: right;\n",
       "    }\n",
       "</style>\n",
       "<table border=\"1\" class=\"dataframe\">\n",
       "  <thead>\n",
       "    <tr style=\"text-align: right;\">\n",
       "      <th></th>\n",
       "      <th>index</th>\n",
       "      <th>ADDRESS</th>\n",
       "      <th>LOCATION</th>\n",
       "      <th>POINT</th>\n",
       "    </tr>\n",
       "  </thead>\n",
       "  <tbody>\n",
       "    <tr>\n",
       "      <th>0</th>\n",
       "      <td>500</td>\n",
       "      <td>12 EAST   37 STREET MANHATTAN NY 10016</td>\n",
       "      <td>None</td>\n",
       "      <td>None</td>\n",
       "    </tr>\n",
       "    <tr>\n",
       "      <th>1</th>\n",
       "      <td>501</td>\n",
       "      <td>153 EAST   53 STREET MANHATTAN NY 10022</td>\n",
       "      <td>None</td>\n",
       "      <td>None</td>\n",
       "    </tr>\n",
       "    <tr>\n",
       "      <th>2</th>\n",
       "      <td>502</td>\n",
       "      <td>50 COURT STREET BROOKLYN NY 11201</td>\n",
       "      <td>(50, Court Street, Cobble Hill, BK, Kings Coun...</td>\n",
       "      <td>(40.6923739, -73.9913434338016, 0.0)</td>\n",
       "    </tr>\n",
       "    <tr>\n",
       "      <th>3</th>\n",
       "      <td>503</td>\n",
       "      <td>15 WEST   46 STREET MANHATTAN NY 10036</td>\n",
       "      <td>None</td>\n",
       "      <td>None</td>\n",
       "    </tr>\n",
       "    <tr>\n",
       "      <th>4</th>\n",
       "      <td>504</td>\n",
       "      <td>2158 8 AVENUE MANHATTAN NY 10026</td>\n",
       "      <td>None</td>\n",
       "      <td>None</td>\n",
       "    </tr>\n",
       "  </tbody>\n",
       "</table>\n",
       "</div>"
      ],
      "text/plain": [
       "   index                                  ADDRESS  \\\n",
       "0    500   12 EAST   37 STREET MANHATTAN NY 10016   \n",
       "1    501  153 EAST   53 STREET MANHATTAN NY 10022   \n",
       "2    502        50 COURT STREET BROOKLYN NY 11201   \n",
       "3    503   15 WEST   46 STREET MANHATTAN NY 10036   \n",
       "4    504         2158 8 AVENUE MANHATTAN NY 10026   \n",
       "\n",
       "                                            LOCATION  \\\n",
       "0                                               None   \n",
       "1                                               None   \n",
       "2  (50, Court Street, Cobble Hill, BK, Kings Coun...   \n",
       "3                                               None   \n",
       "4                                               None   \n",
       "\n",
       "                                  POINT  \n",
       "0                                  None  \n",
       "1                                  None  \n",
       "2  (40.6923739, -73.9913434338016, 0.0)  \n",
       "3                                  None  \n",
       "4                                  None  "
      ]
     },
     "execution_count": 41,
     "metadata": {},
     "output_type": "execute_result"
    }
   ],
   "source": [
    "subset6.head()"
   ]
  },
  {
   "cell_type": "code",
   "execution_count": 42,
   "metadata": {},
   "outputs": [],
   "source": [
    "# create a seventh subset of 100 datapoints from addresses dataframe\n",
    "subset7 = addresses[600:700].reset_index().copy()"
   ]
  },
  {
   "cell_type": "markdown",
   "metadata": {},
   "source": [
    "The error that occured here shows that the geocoder was unable to find the coordinates for this address. This address will later be removed from the list since we do not have the coordinates to add to the visualization."
   ]
  },
  {
   "cell_type": "code",
   "execution_count": 43,
   "metadata": {},
   "outputs": [
    {
     "name": "stderr",
     "output_type": "stream",
     "text": [
      "RateLimiter swallowed an error after 0 retries. Called with (*('1057 LEXINGTON AVENUE MANHATTAN NY 10021',), **{}).\n",
      "Traceback (most recent call last):\n",
      "  File \"/Users/A/anaconda3/envs/inspections_blog/lib/python3.7/urllib/request.py\", line 1317, in do_open\n",
      "    encode_chunked=req.has_header('Transfer-encoding'))\n",
      "  File \"/Users/A/anaconda3/envs/inspections_blog/lib/python3.7/http/client.py\", line 1229, in request\n",
      "    self._send_request(method, url, body, headers, encode_chunked)\n",
      "  File \"/Users/A/anaconda3/envs/inspections_blog/lib/python3.7/http/client.py\", line 1275, in _send_request\n",
      "    self.endheaders(body, encode_chunked=encode_chunked)\n",
      "  File \"/Users/A/anaconda3/envs/inspections_blog/lib/python3.7/http/client.py\", line 1224, in endheaders\n",
      "    self._send_output(message_body, encode_chunked=encode_chunked)\n",
      "  File \"/Users/A/anaconda3/envs/inspections_blog/lib/python3.7/http/client.py\", line 1016, in _send_output\n",
      "    self.send(msg)\n",
      "  File \"/Users/A/anaconda3/envs/inspections_blog/lib/python3.7/http/client.py\", line 956, in send\n",
      "    self.connect()\n",
      "  File \"/Users/A/anaconda3/envs/inspections_blog/lib/python3.7/http/client.py\", line 1384, in connect\n",
      "    super().connect()\n",
      "  File \"/Users/A/anaconda3/envs/inspections_blog/lib/python3.7/http/client.py\", line 928, in connect\n",
      "    (self.host,self.port), self.timeout, self.source_address)\n",
      "  File \"/Users/A/anaconda3/envs/inspections_blog/lib/python3.7/socket.py\", line 727, in create_connection\n",
      "    raise err\n",
      "  File \"/Users/A/anaconda3/envs/inspections_blog/lib/python3.7/socket.py\", line 716, in create_connection\n",
      "    sock.connect(sa)\n",
      "socket.timeout: timed out\n",
      "\n",
      "During handling of the above exception, another exception occurred:\n",
      "\n",
      "Traceback (most recent call last):\n",
      "  File \"/Users/A/anaconda3/envs/inspections_blog/lib/python3.7/site-packages/geopy/geocoders/base.py\", line 355, in _call_geocoder\n",
      "    page = requester(req, timeout=timeout, **kwargs)\n",
      "  File \"/Users/A/anaconda3/envs/inspections_blog/lib/python3.7/urllib/request.py\", line 525, in open\n",
      "    response = self._open(req, data)\n",
      "  File \"/Users/A/anaconda3/envs/inspections_blog/lib/python3.7/urllib/request.py\", line 543, in _open\n",
      "    '_open', req)\n",
      "  File \"/Users/A/anaconda3/envs/inspections_blog/lib/python3.7/urllib/request.py\", line 503, in _call_chain\n",
      "    result = func(*args)\n",
      "  File \"/Users/A/anaconda3/envs/inspections_blog/lib/python3.7/urllib/request.py\", line 1360, in https_open\n",
      "    context=self._context, check_hostname=self._check_hostname)\n",
      "  File \"/Users/A/anaconda3/envs/inspections_blog/lib/python3.7/urllib/request.py\", line 1319, in do_open\n",
      "    raise URLError(err)\n",
      "urllib.error.URLError: <urlopen error timed out>\n",
      "\n",
      "During handling of the above exception, another exception occurred:\n",
      "\n",
      "Traceback (most recent call last):\n",
      "  File \"/Users/A/anaconda3/envs/inspections_blog/lib/python3.7/site-packages/geopy/extra/rate_limiter.py\", line 126, in __call__\n",
      "    return self.func(*args, **kwargs)\n",
      "  File \"/Users/A/anaconda3/envs/inspections_blog/lib/python3.7/site-packages/geopy/geocoders/osm.py\", line 387, in geocode\n",
      "    self._call_geocoder(url, timeout=timeout), exactly_one\n",
      "  File \"/Users/A/anaconda3/envs/inspections_blog/lib/python3.7/site-packages/geopy/geocoders/base.py\", line 378, in _call_geocoder\n",
      "    raise GeocoderTimedOut('Service timed out')\n",
      "geopy.exc.GeocoderTimedOut: Service timed out\n"
     ]
    }
   ],
   "source": [
    "# create a new column in dataframe for storing the location details from geocoding\n",
    "subset7['LOCATION'] = subset7['ADDRESS'].apply(geocode)"
   ]
  },
  {
   "cell_type": "code",
   "execution_count": 44,
   "metadata": {},
   "outputs": [
    {
     "name": "stdout",
     "output_type": "stream",
     "text": [
      "<class 'pandas.core.frame.DataFrame'>\n",
      "RangeIndex: 100 entries, 0 to 99\n",
      "Data columns (total 3 columns):\n",
      "index       100 non-null int64\n",
      "ADDRESS     100 non-null object\n",
      "LOCATION    58 non-null object\n",
      "dtypes: int64(1), object(2)\n",
      "memory usage: 2.4+ KB\n"
     ]
    }
   ],
   "source": [
    "subset7.info()"
   ]
  },
  {
   "cell_type": "code",
   "execution_count": 45,
   "metadata": {},
   "outputs": [
    {
     "data": {
      "text/html": [
       "<div>\n",
       "<style scoped>\n",
       "    .dataframe tbody tr th:only-of-type {\n",
       "        vertical-align: middle;\n",
       "    }\n",
       "\n",
       "    .dataframe tbody tr th {\n",
       "        vertical-align: top;\n",
       "    }\n",
       "\n",
       "    .dataframe thead th {\n",
       "        text-align: right;\n",
       "    }\n",
       "</style>\n",
       "<table border=\"1\" class=\"dataframe\">\n",
       "  <thead>\n",
       "    <tr style=\"text-align: right;\">\n",
       "      <th></th>\n",
       "      <th>index</th>\n",
       "      <th>ADDRESS</th>\n",
       "      <th>LOCATION</th>\n",
       "    </tr>\n",
       "  </thead>\n",
       "  <tbody>\n",
       "    <tr>\n",
       "      <th>0</th>\n",
       "      <td>600</td>\n",
       "      <td>1359 1 AVENUE MANHATTAN NY 10021</td>\n",
       "      <td>None</td>\n",
       "    </tr>\n",
       "    <tr>\n",
       "      <th>1</th>\n",
       "      <td>601</td>\n",
       "      <td>14 1 AVENUE MANHATTAN NY 10009</td>\n",
       "      <td>None</td>\n",
       "    </tr>\n",
       "    <tr>\n",
       "      <th>2</th>\n",
       "      <td>602</td>\n",
       "      <td>407 51 STREET BROOKLYN NY 11220</td>\n",
       "      <td>None</td>\n",
       "    </tr>\n",
       "    <tr>\n",
       "      <th>3</th>\n",
       "      <td>603</td>\n",
       "      <td>31 GREAT JONES ST MANHATTAN NY 10012</td>\n",
       "      <td>(31, Great Jones Street, NoHo Historic Distric...</td>\n",
       "    </tr>\n",
       "    <tr>\n",
       "      <th>4</th>\n",
       "      <td>604</td>\n",
       "      <td>666 5 AVENUE MANHATTAN NY 10103</td>\n",
       "      <td>None</td>\n",
       "    </tr>\n",
       "  </tbody>\n",
       "</table>\n",
       "</div>"
      ],
      "text/plain": [
       "   index                               ADDRESS  \\\n",
       "0    600      1359 1 AVENUE MANHATTAN NY 10021   \n",
       "1    601        14 1 AVENUE MANHATTAN NY 10009   \n",
       "2    602       407 51 STREET BROOKLYN NY 11220   \n",
       "3    603  31 GREAT JONES ST MANHATTAN NY 10012   \n",
       "4    604       666 5 AVENUE MANHATTAN NY 10103   \n",
       "\n",
       "                                            LOCATION  \n",
       "0                                               None  \n",
       "1                                               None  \n",
       "2                                               None  \n",
       "3  (31, Great Jones Street, NoHo Historic Distric...  \n",
       "4                                               None  "
      ]
     },
     "execution_count": 45,
     "metadata": {},
     "output_type": "execute_result"
    }
   ],
   "source": [
    "subset7.head()"
   ]
  },
  {
   "cell_type": "code",
   "execution_count": 46,
   "metadata": {},
   "outputs": [],
   "source": [
    "# create a new column called POINT and fill column with coordinates as tuple pulled from the Location column\n",
    "subset7['POINT'] = subset7['LOCATION'].apply(lambda LOC: tuple(LOC.point) if LOC else None)"
   ]
  },
  {
   "cell_type": "code",
   "execution_count": 47,
   "metadata": {},
   "outputs": [
    {
     "data": {
      "text/html": [
       "<div>\n",
       "<style scoped>\n",
       "    .dataframe tbody tr th:only-of-type {\n",
       "        vertical-align: middle;\n",
       "    }\n",
       "\n",
       "    .dataframe tbody tr th {\n",
       "        vertical-align: top;\n",
       "    }\n",
       "\n",
       "    .dataframe thead th {\n",
       "        text-align: right;\n",
       "    }\n",
       "</style>\n",
       "<table border=\"1\" class=\"dataframe\">\n",
       "  <thead>\n",
       "    <tr style=\"text-align: right;\">\n",
       "      <th></th>\n",
       "      <th>index</th>\n",
       "      <th>ADDRESS</th>\n",
       "      <th>LOCATION</th>\n",
       "      <th>POINT</th>\n",
       "    </tr>\n",
       "  </thead>\n",
       "  <tbody>\n",
       "    <tr>\n",
       "      <th>0</th>\n",
       "      <td>600</td>\n",
       "      <td>1359 1 AVENUE MANHATTAN NY 10021</td>\n",
       "      <td>None</td>\n",
       "      <td>None</td>\n",
       "    </tr>\n",
       "    <tr>\n",
       "      <th>1</th>\n",
       "      <td>601</td>\n",
       "      <td>14 1 AVENUE MANHATTAN NY 10009</td>\n",
       "      <td>None</td>\n",
       "      <td>None</td>\n",
       "    </tr>\n",
       "    <tr>\n",
       "      <th>2</th>\n",
       "      <td>602</td>\n",
       "      <td>407 51 STREET BROOKLYN NY 11220</td>\n",
       "      <td>None</td>\n",
       "      <td>None</td>\n",
       "    </tr>\n",
       "    <tr>\n",
       "      <th>3</th>\n",
       "      <td>603</td>\n",
       "      <td>31 GREAT JONES ST MANHATTAN NY 10012</td>\n",
       "      <td>(31, Great Jones Street, NoHo Historic Distric...</td>\n",
       "      <td>(40.72682565, -73.9932827929892, 0.0)</td>\n",
       "    </tr>\n",
       "    <tr>\n",
       "      <th>4</th>\n",
       "      <td>604</td>\n",
       "      <td>666 5 AVENUE MANHATTAN NY 10103</td>\n",
       "      <td>None</td>\n",
       "      <td>None</td>\n",
       "    </tr>\n",
       "  </tbody>\n",
       "</table>\n",
       "</div>"
      ],
      "text/plain": [
       "   index                               ADDRESS  \\\n",
       "0    600      1359 1 AVENUE MANHATTAN NY 10021   \n",
       "1    601        14 1 AVENUE MANHATTAN NY 10009   \n",
       "2    602       407 51 STREET BROOKLYN NY 11220   \n",
       "3    603  31 GREAT JONES ST MANHATTAN NY 10012   \n",
       "4    604       666 5 AVENUE MANHATTAN NY 10103   \n",
       "\n",
       "                                            LOCATION  \\\n",
       "0                                               None   \n",
       "1                                               None   \n",
       "2                                               None   \n",
       "3  (31, Great Jones Street, NoHo Historic Distric...   \n",
       "4                                               None   \n",
       "\n",
       "                                   POINT  \n",
       "0                                   None  \n",
       "1                                   None  \n",
       "2                                   None  \n",
       "3  (40.72682565, -73.9932827929892, 0.0)  \n",
       "4                                   None  "
      ]
     },
     "execution_count": 47,
     "metadata": {},
     "output_type": "execute_result"
    }
   ],
   "source": [
    "subset7.head()"
   ]
  },
  {
   "cell_type": "code",
   "execution_count": 48,
   "metadata": {},
   "outputs": [],
   "source": [
    "# create a seventh subset of 100 datapoints from addresses dataframe\n",
    "subset8 = addresses[700:800].reset_index().copy()"
   ]
  },
  {
   "cell_type": "code",
   "execution_count": 49,
   "metadata": {},
   "outputs": [],
   "source": [
    "# create a new column in dataframe for storing the location details from geocoding\n",
    "subset8['LOCATION'] = subset8['ADDRESS'].apply(geocode)"
   ]
  },
  {
   "cell_type": "code",
   "execution_count": 50,
   "metadata": {},
   "outputs": [
    {
     "name": "stdout",
     "output_type": "stream",
     "text": [
      "<class 'pandas.core.frame.DataFrame'>\n",
      "RangeIndex: 100 entries, 0 to 99\n",
      "Data columns (total 3 columns):\n",
      "index       100 non-null int64\n",
      "ADDRESS     100 non-null object\n",
      "LOCATION    72 non-null object\n",
      "dtypes: int64(1), object(2)\n",
      "memory usage: 2.4+ KB\n"
     ]
    }
   ],
   "source": [
    "subset8.info()"
   ]
  },
  {
   "cell_type": "code",
   "execution_count": 51,
   "metadata": {},
   "outputs": [
    {
     "data": {
      "text/html": [
       "<div>\n",
       "<style scoped>\n",
       "    .dataframe tbody tr th:only-of-type {\n",
       "        vertical-align: middle;\n",
       "    }\n",
       "\n",
       "    .dataframe tbody tr th {\n",
       "        vertical-align: top;\n",
       "    }\n",
       "\n",
       "    .dataframe thead th {\n",
       "        text-align: right;\n",
       "    }\n",
       "</style>\n",
       "<table border=\"1\" class=\"dataframe\">\n",
       "  <thead>\n",
       "    <tr style=\"text-align: right;\">\n",
       "      <th></th>\n",
       "      <th>index</th>\n",
       "      <th>ADDRESS</th>\n",
       "      <th>LOCATION</th>\n",
       "    </tr>\n",
       "  </thead>\n",
       "  <tbody>\n",
       "    <tr>\n",
       "      <th>0</th>\n",
       "      <td>700</td>\n",
       "      <td>4101 4 AVENUE BROOKLYN NY 11232</td>\n",
       "      <td>None</td>\n",
       "    </tr>\n",
       "    <tr>\n",
       "      <th>1</th>\n",
       "      <td>701</td>\n",
       "      <td>2025 CHURCH AVENUE BROOKLYN NY 11226</td>\n",
       "      <td>(2025, Church Avenue, Flatbush, BK, Kings Coun...</td>\n",
       "    </tr>\n",
       "    <tr>\n",
       "      <th>2</th>\n",
       "      <td>702</td>\n",
       "      <td>175 SECOND AVENUE MANHATTAN NY 10003</td>\n",
       "      <td>None</td>\n",
       "    </tr>\n",
       "    <tr>\n",
       "      <th>3</th>\n",
       "      <td>703</td>\n",
       "      <td>4220 WHITE PLAINS ROAD BRONX NY 10466</td>\n",
       "      <td>(4220, White Plains Road, Wakefield, The Bronx...</td>\n",
       "    </tr>\n",
       "    <tr>\n",
       "      <th>4</th>\n",
       "      <td>704</td>\n",
       "      <td>485 AMSTERDAM AVENUE MANHATTAN NY 10024</td>\n",
       "      <td>(485, Amsterdam Avenue, Upper West Side, Manha...</td>\n",
       "    </tr>\n",
       "  </tbody>\n",
       "</table>\n",
       "</div>"
      ],
      "text/plain": [
       "   index                                  ADDRESS  \\\n",
       "0    700          4101 4 AVENUE BROOKLYN NY 11232   \n",
       "1    701     2025 CHURCH AVENUE BROOKLYN NY 11226   \n",
       "2    702     175 SECOND AVENUE MANHATTAN NY 10003   \n",
       "3    703    4220 WHITE PLAINS ROAD BRONX NY 10466   \n",
       "4    704  485 AMSTERDAM AVENUE MANHATTAN NY 10024   \n",
       "\n",
       "                                            LOCATION  \n",
       "0                                               None  \n",
       "1  (2025, Church Avenue, Flatbush, BK, Kings Coun...  \n",
       "2                                               None  \n",
       "3  (4220, White Plains Road, Wakefield, The Bronx...  \n",
       "4  (485, Amsterdam Avenue, Upper West Side, Manha...  "
      ]
     },
     "execution_count": 51,
     "metadata": {},
     "output_type": "execute_result"
    }
   ],
   "source": [
    "subset8.head()"
   ]
  },
  {
   "cell_type": "code",
   "execution_count": 52,
   "metadata": {},
   "outputs": [],
   "source": [
    "# create a new column called POINT and fill column with coordinates as tuple pulled from the Location column\n",
    "subset8['POINT'] = subset8['LOCATION'].apply(lambda LOC: tuple(LOC.point) if LOC else None)"
   ]
  },
  {
   "cell_type": "code",
   "execution_count": 53,
   "metadata": {},
   "outputs": [
    {
     "data": {
      "text/html": [
       "<div>\n",
       "<style scoped>\n",
       "    .dataframe tbody tr th:only-of-type {\n",
       "        vertical-align: middle;\n",
       "    }\n",
       "\n",
       "    .dataframe tbody tr th {\n",
       "        vertical-align: top;\n",
       "    }\n",
       "\n",
       "    .dataframe thead th {\n",
       "        text-align: right;\n",
       "    }\n",
       "</style>\n",
       "<table border=\"1\" class=\"dataframe\">\n",
       "  <thead>\n",
       "    <tr style=\"text-align: right;\">\n",
       "      <th></th>\n",
       "      <th>index</th>\n",
       "      <th>ADDRESS</th>\n",
       "      <th>LOCATION</th>\n",
       "      <th>POINT</th>\n",
       "    </tr>\n",
       "  </thead>\n",
       "  <tbody>\n",
       "    <tr>\n",
       "      <th>0</th>\n",
       "      <td>700</td>\n",
       "      <td>4101 4 AVENUE BROOKLYN NY 11232</td>\n",
       "      <td>None</td>\n",
       "      <td>None</td>\n",
       "    </tr>\n",
       "    <tr>\n",
       "      <th>1</th>\n",
       "      <td>701</td>\n",
       "      <td>2025 CHURCH AVENUE BROOKLYN NY 11226</td>\n",
       "      <td>(2025, Church Avenue, Flatbush, BK, Kings Coun...</td>\n",
       "      <td>(40.650301, -73.9601161, 0.0)</td>\n",
       "    </tr>\n",
       "    <tr>\n",
       "      <th>2</th>\n",
       "      <td>702</td>\n",
       "      <td>175 SECOND AVENUE MANHATTAN NY 10003</td>\n",
       "      <td>None</td>\n",
       "      <td>None</td>\n",
       "    </tr>\n",
       "    <tr>\n",
       "      <th>3</th>\n",
       "      <td>703</td>\n",
       "      <td>4220 WHITE PLAINS ROAD BRONX NY 10466</td>\n",
       "      <td>(4220, White Plains Road, Wakefield, The Bronx...</td>\n",
       "      <td>(40.8939948, -73.8568371, 0.0)</td>\n",
       "    </tr>\n",
       "    <tr>\n",
       "      <th>4</th>\n",
       "      <td>704</td>\n",
       "      <td>485 AMSTERDAM AVENUE MANHATTAN NY 10024</td>\n",
       "      <td>(485, Amsterdam Avenue, Upper West Side, Manha...</td>\n",
       "      <td>(40.7858366, -73.9759862907941, 0.0)</td>\n",
       "    </tr>\n",
       "  </tbody>\n",
       "</table>\n",
       "</div>"
      ],
      "text/plain": [
       "   index                                  ADDRESS  \\\n",
       "0    700          4101 4 AVENUE BROOKLYN NY 11232   \n",
       "1    701     2025 CHURCH AVENUE BROOKLYN NY 11226   \n",
       "2    702     175 SECOND AVENUE MANHATTAN NY 10003   \n",
       "3    703    4220 WHITE PLAINS ROAD BRONX NY 10466   \n",
       "4    704  485 AMSTERDAM AVENUE MANHATTAN NY 10024   \n",
       "\n",
       "                                            LOCATION  \\\n",
       "0                                               None   \n",
       "1  (2025, Church Avenue, Flatbush, BK, Kings Coun...   \n",
       "2                                               None   \n",
       "3  (4220, White Plains Road, Wakefield, The Bronx...   \n",
       "4  (485, Amsterdam Avenue, Upper West Side, Manha...   \n",
       "\n",
       "                                  POINT  \n",
       "0                                  None  \n",
       "1         (40.650301, -73.9601161, 0.0)  \n",
       "2                                  None  \n",
       "3        (40.8939948, -73.8568371, 0.0)  \n",
       "4  (40.7858366, -73.9759862907941, 0.0)  "
      ]
     },
     "execution_count": 53,
     "metadata": {},
     "output_type": "execute_result"
    }
   ],
   "source": [
    "subset8.head()"
   ]
  },
  {
   "cell_type": "markdown",
   "metadata": {},
   "source": [
    "# Concatenation of All Subsets"
   ]
  },
  {
   "cell_type": "markdown",
   "metadata": {},
   "source": [
    "After each subset of 100 addresses are run through the geocoder, they are concatenated back together into the full dataframe."
   ]
  },
  {
   "cell_type": "code",
   "execution_count": 54,
   "metadata": {},
   "outputs": [],
   "source": [
    "# concat first two subsets into one table\n",
    "subsets12 = pd.concat([subset, subset2], axis=0).reset_index().drop(['level_0', 'index'], axis=1)"
   ]
  },
  {
   "cell_type": "code",
   "execution_count": 55,
   "metadata": {},
   "outputs": [
    {
     "data": {
      "text/html": [
       "<div>\n",
       "<style scoped>\n",
       "    .dataframe tbody tr th:only-of-type {\n",
       "        vertical-align: middle;\n",
       "    }\n",
       "\n",
       "    .dataframe tbody tr th {\n",
       "        vertical-align: top;\n",
       "    }\n",
       "\n",
       "    .dataframe thead th {\n",
       "        text-align: right;\n",
       "    }\n",
       "</style>\n",
       "<table border=\"1\" class=\"dataframe\">\n",
       "  <thead>\n",
       "    <tr style=\"text-align: right;\">\n",
       "      <th></th>\n",
       "      <th>ADDRESS</th>\n",
       "      <th>LOCATION</th>\n",
       "      <th>POINT</th>\n",
       "    </tr>\n",
       "  </thead>\n",
       "  <tbody>\n",
       "    <tr>\n",
       "      <th>0</th>\n",
       "      <td>469 FLATBUSH AVENUE BROOKLYN NY 11225</td>\n",
       "      <td>(Wendy's, 469, Flatbush Avenue, Flatbush, BK, ...</td>\n",
       "      <td>(40.66293035, -73.9617257983564, 0.0)</td>\n",
       "    </tr>\n",
       "    <tr>\n",
       "      <th>1</th>\n",
       "      <td>7114 AVENUE U BROOKLYN NY 11234</td>\n",
       "      <td>(Wilkens Fine Foods, 7114, Avenue U, Bergen Be...</td>\n",
       "      <td>(40.619892, -73.9068502510335, 0.0)</td>\n",
       "    </tr>\n",
       "    <tr>\n",
       "      <th>2</th>\n",
       "      <td>1310 SURF AVENUE BROOKLYN NY 11224</td>\n",
       "      <td>(Nathan's Famous, 1310, Surf Avenue, West Brig...</td>\n",
       "      <td>(40.57530105, -73.9814687031484, 0.0)</td>\n",
       "    </tr>\n",
       "    <tr>\n",
       "      <th>3</th>\n",
       "      <td>18 WEST HOUSTON STREET MANHATTAN NY 10012</td>\n",
       "      <td>(18, West Houston Street, NoHo, Manhattan Comm...</td>\n",
       "      <td>(40.7257247, -73.9970561, 0.0)</td>\n",
       "    </tr>\n",
       "    <tr>\n",
       "      <th>4</th>\n",
       "      <td>10305 37 AVENUE QUEENS NY 11368</td>\n",
       "      <td>None</td>\n",
       "      <td>None</td>\n",
       "    </tr>\n",
       "  </tbody>\n",
       "</table>\n",
       "</div>"
      ],
      "text/plain": [
       "                                     ADDRESS  \\\n",
       "0      469 FLATBUSH AVENUE BROOKLYN NY 11225   \n",
       "1            7114 AVENUE U BROOKLYN NY 11234   \n",
       "2         1310 SURF AVENUE BROOKLYN NY 11224   \n",
       "3  18 WEST HOUSTON STREET MANHATTAN NY 10012   \n",
       "4            10305 37 AVENUE QUEENS NY 11368   \n",
       "\n",
       "                                            LOCATION  \\\n",
       "0  (Wendy's, 469, Flatbush Avenue, Flatbush, BK, ...   \n",
       "1  (Wilkens Fine Foods, 7114, Avenue U, Bergen Be...   \n",
       "2  (Nathan's Famous, 1310, Surf Avenue, West Brig...   \n",
       "3  (18, West Houston Street, NoHo, Manhattan Comm...   \n",
       "4                                               None   \n",
       "\n",
       "                                   POINT  \n",
       "0  (40.66293035, -73.9617257983564, 0.0)  \n",
       "1    (40.619892, -73.9068502510335, 0.0)  \n",
       "2  (40.57530105, -73.9814687031484, 0.0)  \n",
       "3         (40.7257247, -73.9970561, 0.0)  \n",
       "4                                   None  "
      ]
     },
     "execution_count": 55,
     "metadata": {},
     "output_type": "execute_result"
    }
   ],
   "source": [
    "subsets12.head()"
   ]
  },
  {
   "cell_type": "code",
   "execution_count": 56,
   "metadata": {},
   "outputs": [
    {
     "data": {
      "text/html": [
       "<div>\n",
       "<style scoped>\n",
       "    .dataframe tbody tr th:only-of-type {\n",
       "        vertical-align: middle;\n",
       "    }\n",
       "\n",
       "    .dataframe tbody tr th {\n",
       "        vertical-align: top;\n",
       "    }\n",
       "\n",
       "    .dataframe thead th {\n",
       "        text-align: right;\n",
       "    }\n",
       "</style>\n",
       "<table border=\"1\" class=\"dataframe\">\n",
       "  <thead>\n",
       "    <tr style=\"text-align: right;\">\n",
       "      <th></th>\n",
       "      <th>ADDRESS</th>\n",
       "      <th>LOCATION</th>\n",
       "      <th>POINT</th>\n",
       "    </tr>\n",
       "  </thead>\n",
       "  <tbody>\n",
       "    <tr>\n",
       "      <th>195</th>\n",
       "      <td>4018 MAIN STREET QUEENS NY 11354</td>\n",
       "      <td>(Main Street, Linden Hill, Queens, Queens Coun...</td>\n",
       "      <td>(40.7629068, -73.8319907, 0.0)</td>\n",
       "    </tr>\n",
       "    <tr>\n",
       "      <th>196</th>\n",
       "      <td>537 PARK AVENUE BROOKLYN NY 11205</td>\n",
       "      <td>(537, Park Avenue, Marcy Houses, BK, Kings Cou...</td>\n",
       "      <td>(40.6970881, -73.9548986, 0.0)</td>\n",
       "    </tr>\n",
       "    <tr>\n",
       "      <th>197</th>\n",
       "      <td>1919 HYLAN BOULEVARD STATEN ISLAND NY 10305</td>\n",
       "      <td>(1919, Hylan Boulevard, Dongan Hills, Todt Hil...</td>\n",
       "      <td>(40.5828716, -74.0967526, 0.0)</td>\n",
       "    </tr>\n",
       "    <tr>\n",
       "      <th>198</th>\n",
       "      <td>2788 BROADWAY MANHATTAN NY 10025</td>\n",
       "      <td>(Absolute Bagels, 2788, Broadway, Manhattan Va...</td>\n",
       "      <td>(40.8024597, -73.9673698441467, 0.0)</td>\n",
       "    </tr>\n",
       "    <tr>\n",
       "      <th>199</th>\n",
       "      <td>7002 34 AVENUE QUEENS NY 11372</td>\n",
       "      <td>None</td>\n",
       "      <td>None</td>\n",
       "    </tr>\n",
       "  </tbody>\n",
       "</table>\n",
       "</div>"
      ],
      "text/plain": [
       "                                         ADDRESS  \\\n",
       "195             4018 MAIN STREET QUEENS NY 11354   \n",
       "196            537 PARK AVENUE BROOKLYN NY 11205   \n",
       "197  1919 HYLAN BOULEVARD STATEN ISLAND NY 10305   \n",
       "198             2788 BROADWAY MANHATTAN NY 10025   \n",
       "199               7002 34 AVENUE QUEENS NY 11372   \n",
       "\n",
       "                                              LOCATION  \\\n",
       "195  (Main Street, Linden Hill, Queens, Queens Coun...   \n",
       "196  (537, Park Avenue, Marcy Houses, BK, Kings Cou...   \n",
       "197  (1919, Hylan Boulevard, Dongan Hills, Todt Hil...   \n",
       "198  (Absolute Bagels, 2788, Broadway, Manhattan Va...   \n",
       "199                                               None   \n",
       "\n",
       "                                    POINT  \n",
       "195        (40.7629068, -73.8319907, 0.0)  \n",
       "196        (40.6970881, -73.9548986, 0.0)  \n",
       "197        (40.5828716, -74.0967526, 0.0)  \n",
       "198  (40.8024597, -73.9673698441467, 0.0)  \n",
       "199                                  None  "
      ]
     },
     "execution_count": 56,
     "metadata": {},
     "output_type": "execute_result"
    }
   ],
   "source": [
    "subsets12.tail()"
   ]
  },
  {
   "cell_type": "code",
   "execution_count": 57,
   "metadata": {},
   "outputs": [
    {
     "data": {
      "text/plain": [
       "(200, 3)"
      ]
     },
     "execution_count": 57,
     "metadata": {},
     "output_type": "execute_result"
    }
   ],
   "source": [
    "# check shape - there should be 200 datapoints after concatenation\n",
    "subsets12.shape"
   ]
  },
  {
   "cell_type": "code",
   "execution_count": 58,
   "metadata": {},
   "outputs": [],
   "source": [
    "# concat first concatenated dataframe with third subset of data\n",
    "subsets123 = pd.concat([subsets12, subset3], axis=0, sort=False).reset_index().drop(['index', 'level_0'], axis=1)"
   ]
  },
  {
   "cell_type": "code",
   "execution_count": 59,
   "metadata": {},
   "outputs": [
    {
     "data": {
      "text/plain": [
       "(300, 3)"
      ]
     },
     "execution_count": 59,
     "metadata": {},
     "output_type": "execute_result"
    }
   ],
   "source": [
    "# check shape - should be 300 data points after 2nd concatenation\n",
    "subsets123.shape"
   ]
  },
  {
   "cell_type": "code",
   "execution_count": 60,
   "metadata": {},
   "outputs": [
    {
     "data": {
      "text/html": [
       "<div>\n",
       "<style scoped>\n",
       "    .dataframe tbody tr th:only-of-type {\n",
       "        vertical-align: middle;\n",
       "    }\n",
       "\n",
       "    .dataframe tbody tr th {\n",
       "        vertical-align: top;\n",
       "    }\n",
       "\n",
       "    .dataframe thead th {\n",
       "        text-align: right;\n",
       "    }\n",
       "</style>\n",
       "<table border=\"1\" class=\"dataframe\">\n",
       "  <thead>\n",
       "    <tr style=\"text-align: right;\">\n",
       "      <th></th>\n",
       "      <th>ADDRESS</th>\n",
       "      <th>LOCATION</th>\n",
       "      <th>POINT</th>\n",
       "    </tr>\n",
       "  </thead>\n",
       "  <tbody>\n",
       "    <tr>\n",
       "      <th>0</th>\n",
       "      <td>469 FLATBUSH AVENUE BROOKLYN NY 11225</td>\n",
       "      <td>(Wendy's, 469, Flatbush Avenue, Flatbush, BK, ...</td>\n",
       "      <td>(40.66293035, -73.9617257983564, 0.0)</td>\n",
       "    </tr>\n",
       "    <tr>\n",
       "      <th>1</th>\n",
       "      <td>7114 AVENUE U BROOKLYN NY 11234</td>\n",
       "      <td>(Wilkens Fine Foods, 7114, Avenue U, Bergen Be...</td>\n",
       "      <td>(40.619892, -73.9068502510335, 0.0)</td>\n",
       "    </tr>\n",
       "    <tr>\n",
       "      <th>2</th>\n",
       "      <td>1310 SURF AVENUE BROOKLYN NY 11224</td>\n",
       "      <td>(Nathan's Famous, 1310, Surf Avenue, West Brig...</td>\n",
       "      <td>(40.57530105, -73.9814687031484, 0.0)</td>\n",
       "    </tr>\n",
       "    <tr>\n",
       "      <th>3</th>\n",
       "      <td>18 WEST HOUSTON STREET MANHATTAN NY 10012</td>\n",
       "      <td>(18, West Houston Street, NoHo, Manhattan Comm...</td>\n",
       "      <td>(40.7257247, -73.9970561, 0.0)</td>\n",
       "    </tr>\n",
       "    <tr>\n",
       "      <th>4</th>\n",
       "      <td>10305 37 AVENUE QUEENS NY 11368</td>\n",
       "      <td>None</td>\n",
       "      <td>None</td>\n",
       "    </tr>\n",
       "  </tbody>\n",
       "</table>\n",
       "</div>"
      ],
      "text/plain": [
       "                                     ADDRESS  \\\n",
       "0      469 FLATBUSH AVENUE BROOKLYN NY 11225   \n",
       "1            7114 AVENUE U BROOKLYN NY 11234   \n",
       "2         1310 SURF AVENUE BROOKLYN NY 11224   \n",
       "3  18 WEST HOUSTON STREET MANHATTAN NY 10012   \n",
       "4            10305 37 AVENUE QUEENS NY 11368   \n",
       "\n",
       "                                            LOCATION  \\\n",
       "0  (Wendy's, 469, Flatbush Avenue, Flatbush, BK, ...   \n",
       "1  (Wilkens Fine Foods, 7114, Avenue U, Bergen Be...   \n",
       "2  (Nathan's Famous, 1310, Surf Avenue, West Brig...   \n",
       "3  (18, West Houston Street, NoHo, Manhattan Comm...   \n",
       "4                                               None   \n",
       "\n",
       "                                   POINT  \n",
       "0  (40.66293035, -73.9617257983564, 0.0)  \n",
       "1    (40.619892, -73.9068502510335, 0.0)  \n",
       "2  (40.57530105, -73.9814687031484, 0.0)  \n",
       "3         (40.7257247, -73.9970561, 0.0)  \n",
       "4                                   None  "
      ]
     },
     "execution_count": 60,
     "metadata": {},
     "output_type": "execute_result"
    }
   ],
   "source": [
    "subsets123.head()"
   ]
  },
  {
   "cell_type": "code",
   "execution_count": 61,
   "metadata": {},
   "outputs": [
    {
     "data": {
      "text/html": [
       "<div>\n",
       "<style scoped>\n",
       "    .dataframe tbody tr th:only-of-type {\n",
       "        vertical-align: middle;\n",
       "    }\n",
       "\n",
       "    .dataframe tbody tr th {\n",
       "        vertical-align: top;\n",
       "    }\n",
       "\n",
       "    .dataframe thead th {\n",
       "        text-align: right;\n",
       "    }\n",
       "</style>\n",
       "<table border=\"1\" class=\"dataframe\">\n",
       "  <thead>\n",
       "    <tr style=\"text-align: right;\">\n",
       "      <th></th>\n",
       "      <th>ADDRESS</th>\n",
       "      <th>LOCATION</th>\n",
       "      <th>POINT</th>\n",
       "    </tr>\n",
       "  </thead>\n",
       "  <tbody>\n",
       "    <tr>\n",
       "      <th>295</th>\n",
       "      <td>3519 37 AVENUE QUEENS NY 11101</td>\n",
       "      <td>None</td>\n",
       "      <td>None</td>\n",
       "    </tr>\n",
       "    <tr>\n",
       "      <th>296</th>\n",
       "      <td>1866 RALPH AVENUE BROOKLYN NY 11236</td>\n",
       "      <td>(1866, Ralph Avenue, Paerdegat, BK, Kings Coun...</td>\n",
       "      <td>(40.6315062, -73.9189373424452, 0.0)</td>\n",
       "    </tr>\n",
       "    <tr>\n",
       "      <th>297</th>\n",
       "      <td>289 MANHATTAN AVENUE BROOKLYN NY 11211</td>\n",
       "      <td>(Fortunato Brothers, 289, Manhattan Avenue, Gr...</td>\n",
       "      <td>(40.7137679, -73.9461019, 0.0)</td>\n",
       "    </tr>\n",
       "    <tr>\n",
       "      <th>298</th>\n",
       "      <td>90 BEDFORD STREET MANHATTAN NY 10014</td>\n",
       "      <td>(Friends Building, 90, Bedford Street, West Vi...</td>\n",
       "      <td>(40.7323594, -74.0052999, 0.0)</td>\n",
       "    </tr>\n",
       "    <tr>\n",
       "      <th>299</th>\n",
       "      <td>236 EAST   53 STREET MANHATTAN NY 10022</td>\n",
       "      <td>None</td>\n",
       "      <td>None</td>\n",
       "    </tr>\n",
       "  </tbody>\n",
       "</table>\n",
       "</div>"
      ],
      "text/plain": [
       "                                     ADDRESS  \\\n",
       "295           3519 37 AVENUE QUEENS NY 11101   \n",
       "296      1866 RALPH AVENUE BROOKLYN NY 11236   \n",
       "297   289 MANHATTAN AVENUE BROOKLYN NY 11211   \n",
       "298     90 BEDFORD STREET MANHATTAN NY 10014   \n",
       "299  236 EAST   53 STREET MANHATTAN NY 10022   \n",
       "\n",
       "                                              LOCATION  \\\n",
       "295                                               None   \n",
       "296  (1866, Ralph Avenue, Paerdegat, BK, Kings Coun...   \n",
       "297  (Fortunato Brothers, 289, Manhattan Avenue, Gr...   \n",
       "298  (Friends Building, 90, Bedford Street, West Vi...   \n",
       "299                                               None   \n",
       "\n",
       "                                    POINT  \n",
       "295                                  None  \n",
       "296  (40.6315062, -73.9189373424452, 0.0)  \n",
       "297        (40.7137679, -73.9461019, 0.0)  \n",
       "298        (40.7323594, -74.0052999, 0.0)  \n",
       "299                                  None  "
      ]
     },
     "execution_count": 61,
     "metadata": {},
     "output_type": "execute_result"
    }
   ],
   "source": [
    "subsets123.tail()"
   ]
  },
  {
   "cell_type": "code",
   "execution_count": 62,
   "metadata": {},
   "outputs": [],
   "source": [
    "# concat 2nd concatenated dataframe with fifth subset of data (skipped fourth subset because there is no data obtained through geocoding)\n",
    "subsets1235 = pd.concat([subsets123, subset5], axis=0, sort=False).reset_index().drop(['index', 'level_0'], axis=1)"
   ]
  },
  {
   "cell_type": "code",
   "execution_count": 63,
   "metadata": {},
   "outputs": [
    {
     "data": {
      "text/html": [
       "<div>\n",
       "<style scoped>\n",
       "    .dataframe tbody tr th:only-of-type {\n",
       "        vertical-align: middle;\n",
       "    }\n",
       "\n",
       "    .dataframe tbody tr th {\n",
       "        vertical-align: top;\n",
       "    }\n",
       "\n",
       "    .dataframe thead th {\n",
       "        text-align: right;\n",
       "    }\n",
       "</style>\n",
       "<table border=\"1\" class=\"dataframe\">\n",
       "  <thead>\n",
       "    <tr style=\"text-align: right;\">\n",
       "      <th></th>\n",
       "      <th>ADDRESS</th>\n",
       "      <th>LOCATION</th>\n",
       "      <th>POINT</th>\n",
       "    </tr>\n",
       "  </thead>\n",
       "  <tbody>\n",
       "    <tr>\n",
       "      <th>0</th>\n",
       "      <td>469 FLATBUSH AVENUE BROOKLYN NY 11225</td>\n",
       "      <td>(Wendy's, 469, Flatbush Avenue, Flatbush, BK, ...</td>\n",
       "      <td>(40.66293035, -73.9617257983564, 0.0)</td>\n",
       "    </tr>\n",
       "    <tr>\n",
       "      <th>1</th>\n",
       "      <td>7114 AVENUE U BROOKLYN NY 11234</td>\n",
       "      <td>(Wilkens Fine Foods, 7114, Avenue U, Bergen Be...</td>\n",
       "      <td>(40.619892, -73.9068502510335, 0.0)</td>\n",
       "    </tr>\n",
       "    <tr>\n",
       "      <th>2</th>\n",
       "      <td>1310 SURF AVENUE BROOKLYN NY 11224</td>\n",
       "      <td>(Nathan's Famous, 1310, Surf Avenue, West Brig...</td>\n",
       "      <td>(40.57530105, -73.9814687031484, 0.0)</td>\n",
       "    </tr>\n",
       "    <tr>\n",
       "      <th>3</th>\n",
       "      <td>18 WEST HOUSTON STREET MANHATTAN NY 10012</td>\n",
       "      <td>(18, West Houston Street, NoHo, Manhattan Comm...</td>\n",
       "      <td>(40.7257247, -73.9970561, 0.0)</td>\n",
       "    </tr>\n",
       "    <tr>\n",
       "      <th>4</th>\n",
       "      <td>10305 37 AVENUE QUEENS NY 11368</td>\n",
       "      <td>None</td>\n",
       "      <td>None</td>\n",
       "    </tr>\n",
       "  </tbody>\n",
       "</table>\n",
       "</div>"
      ],
      "text/plain": [
       "                                     ADDRESS  \\\n",
       "0      469 FLATBUSH AVENUE BROOKLYN NY 11225   \n",
       "1            7114 AVENUE U BROOKLYN NY 11234   \n",
       "2         1310 SURF AVENUE BROOKLYN NY 11224   \n",
       "3  18 WEST HOUSTON STREET MANHATTAN NY 10012   \n",
       "4            10305 37 AVENUE QUEENS NY 11368   \n",
       "\n",
       "                                            LOCATION  \\\n",
       "0  (Wendy's, 469, Flatbush Avenue, Flatbush, BK, ...   \n",
       "1  (Wilkens Fine Foods, 7114, Avenue U, Bergen Be...   \n",
       "2  (Nathan's Famous, 1310, Surf Avenue, West Brig...   \n",
       "3  (18, West Houston Street, NoHo, Manhattan Comm...   \n",
       "4                                               None   \n",
       "\n",
       "                                   POINT  \n",
       "0  (40.66293035, -73.9617257983564, 0.0)  \n",
       "1    (40.619892, -73.9068502510335, 0.0)  \n",
       "2  (40.57530105, -73.9814687031484, 0.0)  \n",
       "3         (40.7257247, -73.9970561, 0.0)  \n",
       "4                                   None  "
      ]
     },
     "execution_count": 63,
     "metadata": {},
     "output_type": "execute_result"
    }
   ],
   "source": [
    "subsets1235.head()"
   ]
  },
  {
   "cell_type": "code",
   "execution_count": 64,
   "metadata": {},
   "outputs": [
    {
     "data": {
      "text/html": [
       "<div>\n",
       "<style scoped>\n",
       "    .dataframe tbody tr th:only-of-type {\n",
       "        vertical-align: middle;\n",
       "    }\n",
       "\n",
       "    .dataframe tbody tr th {\n",
       "        vertical-align: top;\n",
       "    }\n",
       "\n",
       "    .dataframe thead th {\n",
       "        text-align: right;\n",
       "    }\n",
       "</style>\n",
       "<table border=\"1\" class=\"dataframe\">\n",
       "  <thead>\n",
       "    <tr style=\"text-align: right;\">\n",
       "      <th></th>\n",
       "      <th>ADDRESS</th>\n",
       "      <th>LOCATION</th>\n",
       "      <th>POINT</th>\n",
       "    </tr>\n",
       "  </thead>\n",
       "  <tbody>\n",
       "    <tr>\n",
       "      <th>395</th>\n",
       "      <td>1295 MADISON AVENUE MANHATTAN NY 10128</td>\n",
       "      <td>(1295, Madison Avenue, Carnegie Hill, Manhatta...</td>\n",
       "      <td>(40.7848028, -73.955747, 0.0)</td>\n",
       "    </tr>\n",
       "    <tr>\n",
       "      <th>396</th>\n",
       "      <td>337 EAST   49 STREET MANHATTAN NY 10017</td>\n",
       "      <td>None</td>\n",
       "      <td>None</td>\n",
       "    </tr>\n",
       "    <tr>\n",
       "      <th>397</th>\n",
       "      <td>1035 EAST  163 STREET BRONX NY 10459</td>\n",
       "      <td>None</td>\n",
       "      <td>None</td>\n",
       "    </tr>\n",
       "    <tr>\n",
       "      <th>398</th>\n",
       "      <td>296 3 AVENUE MANHATTAN NY 10010</td>\n",
       "      <td>None</td>\n",
       "      <td>None</td>\n",
       "    </tr>\n",
       "    <tr>\n",
       "      <th>399</th>\n",
       "      <td>260 WEST   44 STREET MANHATTAN NY 10036</td>\n",
       "      <td>None</td>\n",
       "      <td>None</td>\n",
       "    </tr>\n",
       "  </tbody>\n",
       "</table>\n",
       "</div>"
      ],
      "text/plain": [
       "                                     ADDRESS  \\\n",
       "395   1295 MADISON AVENUE MANHATTAN NY 10128   \n",
       "396  337 EAST   49 STREET MANHATTAN NY 10017   \n",
       "397     1035 EAST  163 STREET BRONX NY 10459   \n",
       "398          296 3 AVENUE MANHATTAN NY 10010   \n",
       "399  260 WEST   44 STREET MANHATTAN NY 10036   \n",
       "\n",
       "                                              LOCATION  \\\n",
       "395  (1295, Madison Avenue, Carnegie Hill, Manhatta...   \n",
       "396                                               None   \n",
       "397                                               None   \n",
       "398                                               None   \n",
       "399                                               None   \n",
       "\n",
       "                             POINT  \n",
       "395  (40.7848028, -73.955747, 0.0)  \n",
       "396                           None  \n",
       "397                           None  \n",
       "398                           None  \n",
       "399                           None  "
      ]
     },
     "execution_count": 64,
     "metadata": {},
     "output_type": "execute_result"
    }
   ],
   "source": [
    "subsets1235.tail()"
   ]
  },
  {
   "cell_type": "code",
   "execution_count": 65,
   "metadata": {},
   "outputs": [],
   "source": [
    "# concat 3rd concatenated dataframe with sixth subset of data\n",
    "subsets12356 = pd.concat([subsets1235, subset6], axis=0, sort=False).reset_index().drop(['index', 'level_0'], axis=1)"
   ]
  },
  {
   "cell_type": "code",
   "execution_count": 66,
   "metadata": {},
   "outputs": [
    {
     "data": {
      "text/html": [
       "<div>\n",
       "<style scoped>\n",
       "    .dataframe tbody tr th:only-of-type {\n",
       "        vertical-align: middle;\n",
       "    }\n",
       "\n",
       "    .dataframe tbody tr th {\n",
       "        vertical-align: top;\n",
       "    }\n",
       "\n",
       "    .dataframe thead th {\n",
       "        text-align: right;\n",
       "    }\n",
       "</style>\n",
       "<table border=\"1\" class=\"dataframe\">\n",
       "  <thead>\n",
       "    <tr style=\"text-align: right;\">\n",
       "      <th></th>\n",
       "      <th>ADDRESS</th>\n",
       "      <th>LOCATION</th>\n",
       "      <th>POINT</th>\n",
       "    </tr>\n",
       "  </thead>\n",
       "  <tbody>\n",
       "    <tr>\n",
       "      <th>0</th>\n",
       "      <td>469 FLATBUSH AVENUE BROOKLYN NY 11225</td>\n",
       "      <td>(Wendy's, 469, Flatbush Avenue, Flatbush, BK, ...</td>\n",
       "      <td>(40.66293035, -73.9617257983564, 0.0)</td>\n",
       "    </tr>\n",
       "    <tr>\n",
       "      <th>1</th>\n",
       "      <td>7114 AVENUE U BROOKLYN NY 11234</td>\n",
       "      <td>(Wilkens Fine Foods, 7114, Avenue U, Bergen Be...</td>\n",
       "      <td>(40.619892, -73.9068502510335, 0.0)</td>\n",
       "    </tr>\n",
       "    <tr>\n",
       "      <th>2</th>\n",
       "      <td>1310 SURF AVENUE BROOKLYN NY 11224</td>\n",
       "      <td>(Nathan's Famous, 1310, Surf Avenue, West Brig...</td>\n",
       "      <td>(40.57530105, -73.9814687031484, 0.0)</td>\n",
       "    </tr>\n",
       "    <tr>\n",
       "      <th>3</th>\n",
       "      <td>18 WEST HOUSTON STREET MANHATTAN NY 10012</td>\n",
       "      <td>(18, West Houston Street, NoHo, Manhattan Comm...</td>\n",
       "      <td>(40.7257247, -73.9970561, 0.0)</td>\n",
       "    </tr>\n",
       "    <tr>\n",
       "      <th>4</th>\n",
       "      <td>10305 37 AVENUE QUEENS NY 11368</td>\n",
       "      <td>None</td>\n",
       "      <td>None</td>\n",
       "    </tr>\n",
       "  </tbody>\n",
       "</table>\n",
       "</div>"
      ],
      "text/plain": [
       "                                     ADDRESS  \\\n",
       "0      469 FLATBUSH AVENUE BROOKLYN NY 11225   \n",
       "1            7114 AVENUE U BROOKLYN NY 11234   \n",
       "2         1310 SURF AVENUE BROOKLYN NY 11224   \n",
       "3  18 WEST HOUSTON STREET MANHATTAN NY 10012   \n",
       "4            10305 37 AVENUE QUEENS NY 11368   \n",
       "\n",
       "                                            LOCATION  \\\n",
       "0  (Wendy's, 469, Flatbush Avenue, Flatbush, BK, ...   \n",
       "1  (Wilkens Fine Foods, 7114, Avenue U, Bergen Be...   \n",
       "2  (Nathan's Famous, 1310, Surf Avenue, West Brig...   \n",
       "3  (18, West Houston Street, NoHo, Manhattan Comm...   \n",
       "4                                               None   \n",
       "\n",
       "                                   POINT  \n",
       "0  (40.66293035, -73.9617257983564, 0.0)  \n",
       "1    (40.619892, -73.9068502510335, 0.0)  \n",
       "2  (40.57530105, -73.9814687031484, 0.0)  \n",
       "3         (40.7257247, -73.9970561, 0.0)  \n",
       "4                                   None  "
      ]
     },
     "execution_count": 66,
     "metadata": {},
     "output_type": "execute_result"
    }
   ],
   "source": [
    "subsets12356.head()"
   ]
  },
  {
   "cell_type": "code",
   "execution_count": 67,
   "metadata": {},
   "outputs": [
    {
     "data": {
      "text/html": [
       "<div>\n",
       "<style scoped>\n",
       "    .dataframe tbody tr th:only-of-type {\n",
       "        vertical-align: middle;\n",
       "    }\n",
       "\n",
       "    .dataframe tbody tr th {\n",
       "        vertical-align: top;\n",
       "    }\n",
       "\n",
       "    .dataframe thead th {\n",
       "        text-align: right;\n",
       "    }\n",
       "</style>\n",
       "<table border=\"1\" class=\"dataframe\">\n",
       "  <thead>\n",
       "    <tr style=\"text-align: right;\">\n",
       "      <th></th>\n",
       "      <th>ADDRESS</th>\n",
       "      <th>LOCATION</th>\n",
       "      <th>POINT</th>\n",
       "    </tr>\n",
       "  </thead>\n",
       "  <tbody>\n",
       "    <tr>\n",
       "      <th>495</th>\n",
       "      <td>375 WEST  125 STREET MANHATTAN NY 10027</td>\n",
       "      <td>None</td>\n",
       "      <td>None</td>\n",
       "    </tr>\n",
       "    <tr>\n",
       "      <th>496</th>\n",
       "      <td>72 BEDFORD STREET MANHATTAN NY 10014</td>\n",
       "      <td>(72, Bedford Street, West Village, Manhattan C...</td>\n",
       "      <td>(40.7314644, -74.0048032, 0.0)</td>\n",
       "    </tr>\n",
       "    <tr>\n",
       "      <th>497</th>\n",
       "      <td>1664 RICHMOND ROAD STATEN ISLAND NY 10304</td>\n",
       "      <td>(1664, Richmond Road, Dongan Hills, Todt Hill,...</td>\n",
       "      <td>(40.5893815, -74.1012747, 0.0)</td>\n",
       "    </tr>\n",
       "    <tr>\n",
       "      <th>498</th>\n",
       "      <td>109 MACDOUGAL STREET MANHATTAN NY 10012</td>\n",
       "      <td>(off the wagon, 109, MacDougal Street, Univers...</td>\n",
       "      <td>(40.7299118, -74.0008153, 0.0)</td>\n",
       "    </tr>\n",
       "    <tr>\n",
       "      <th>499</th>\n",
       "      <td>107 UNIVERSITY PLACE MANHATTAN NY 10003</td>\n",
       "      <td>(107, University Place, Washington Square Vill...</td>\n",
       "      <td>(40.7342068, -73.9923691, 0.0)</td>\n",
       "    </tr>\n",
       "  </tbody>\n",
       "</table>\n",
       "</div>"
      ],
      "text/plain": [
       "                                       ADDRESS  \\\n",
       "495    375 WEST  125 STREET MANHATTAN NY 10027   \n",
       "496       72 BEDFORD STREET MANHATTAN NY 10014   \n",
       "497  1664 RICHMOND ROAD STATEN ISLAND NY 10304   \n",
       "498    109 MACDOUGAL STREET MANHATTAN NY 10012   \n",
       "499    107 UNIVERSITY PLACE MANHATTAN NY 10003   \n",
       "\n",
       "                                              LOCATION  \\\n",
       "495                                               None   \n",
       "496  (72, Bedford Street, West Village, Manhattan C...   \n",
       "497  (1664, Richmond Road, Dongan Hills, Todt Hill,...   \n",
       "498  (off the wagon, 109, MacDougal Street, Univers...   \n",
       "499  (107, University Place, Washington Square Vill...   \n",
       "\n",
       "                              POINT  \n",
       "495                            None  \n",
       "496  (40.7314644, -74.0048032, 0.0)  \n",
       "497  (40.5893815, -74.1012747, 0.0)  \n",
       "498  (40.7299118, -74.0008153, 0.0)  \n",
       "499  (40.7342068, -73.9923691, 0.0)  "
      ]
     },
     "execution_count": 67,
     "metadata": {},
     "output_type": "execute_result"
    }
   ],
   "source": [
    "subsets12356.tail()"
   ]
  },
  {
   "cell_type": "code",
   "execution_count": 68,
   "metadata": {},
   "outputs": [
    {
     "data": {
      "text/plain": [
       "ADDRESS       0\n",
       "LOCATION    184\n",
       "POINT       184\n",
       "dtype: int64"
      ]
     },
     "execution_count": 68,
     "metadata": {},
     "output_type": "execute_result"
    }
   ],
   "source": [
    "# check null values\n",
    "subsets12356.isnull().sum()"
   ]
  },
  {
   "cell_type": "code",
   "execution_count": 69,
   "metadata": {},
   "outputs": [],
   "source": [
    "# concat 4th concatenated dataframe with seventh subset of data\n",
    "subsets123567 = pd.concat([subsets12356, subset7], axis=0, sort=False).reset_index().drop(['index', 'level_0'], axis=1)"
   ]
  },
  {
   "cell_type": "code",
   "execution_count": 70,
   "metadata": {},
   "outputs": [
    {
     "data": {
      "text/html": [
       "<div>\n",
       "<style scoped>\n",
       "    .dataframe tbody tr th:only-of-type {\n",
       "        vertical-align: middle;\n",
       "    }\n",
       "\n",
       "    .dataframe tbody tr th {\n",
       "        vertical-align: top;\n",
       "    }\n",
       "\n",
       "    .dataframe thead th {\n",
       "        text-align: right;\n",
       "    }\n",
       "</style>\n",
       "<table border=\"1\" class=\"dataframe\">\n",
       "  <thead>\n",
       "    <tr style=\"text-align: right;\">\n",
       "      <th></th>\n",
       "      <th>ADDRESS</th>\n",
       "      <th>LOCATION</th>\n",
       "      <th>POINT</th>\n",
       "    </tr>\n",
       "  </thead>\n",
       "  <tbody>\n",
       "    <tr>\n",
       "      <th>0</th>\n",
       "      <td>469 FLATBUSH AVENUE BROOKLYN NY 11225</td>\n",
       "      <td>(Wendy's, 469, Flatbush Avenue, Flatbush, BK, ...</td>\n",
       "      <td>(40.66293035, -73.9617257983564, 0.0)</td>\n",
       "    </tr>\n",
       "    <tr>\n",
       "      <th>1</th>\n",
       "      <td>7114 AVENUE U BROOKLYN NY 11234</td>\n",
       "      <td>(Wilkens Fine Foods, 7114, Avenue U, Bergen Be...</td>\n",
       "      <td>(40.619892, -73.9068502510335, 0.0)</td>\n",
       "    </tr>\n",
       "    <tr>\n",
       "      <th>2</th>\n",
       "      <td>1310 SURF AVENUE BROOKLYN NY 11224</td>\n",
       "      <td>(Nathan's Famous, 1310, Surf Avenue, West Brig...</td>\n",
       "      <td>(40.57530105, -73.9814687031484, 0.0)</td>\n",
       "    </tr>\n",
       "    <tr>\n",
       "      <th>3</th>\n",
       "      <td>18 WEST HOUSTON STREET MANHATTAN NY 10012</td>\n",
       "      <td>(18, West Houston Street, NoHo, Manhattan Comm...</td>\n",
       "      <td>(40.7257247, -73.9970561, 0.0)</td>\n",
       "    </tr>\n",
       "    <tr>\n",
       "      <th>4</th>\n",
       "      <td>10305 37 AVENUE QUEENS NY 11368</td>\n",
       "      <td>None</td>\n",
       "      <td>None</td>\n",
       "    </tr>\n",
       "  </tbody>\n",
       "</table>\n",
       "</div>"
      ],
      "text/plain": [
       "                                     ADDRESS  \\\n",
       "0      469 FLATBUSH AVENUE BROOKLYN NY 11225   \n",
       "1            7114 AVENUE U BROOKLYN NY 11234   \n",
       "2         1310 SURF AVENUE BROOKLYN NY 11224   \n",
       "3  18 WEST HOUSTON STREET MANHATTAN NY 10012   \n",
       "4            10305 37 AVENUE QUEENS NY 11368   \n",
       "\n",
       "                                            LOCATION  \\\n",
       "0  (Wendy's, 469, Flatbush Avenue, Flatbush, BK, ...   \n",
       "1  (Wilkens Fine Foods, 7114, Avenue U, Bergen Be...   \n",
       "2  (Nathan's Famous, 1310, Surf Avenue, West Brig...   \n",
       "3  (18, West Houston Street, NoHo, Manhattan Comm...   \n",
       "4                                               None   \n",
       "\n",
       "                                   POINT  \n",
       "0  (40.66293035, -73.9617257983564, 0.0)  \n",
       "1    (40.619892, -73.9068502510335, 0.0)  \n",
       "2  (40.57530105, -73.9814687031484, 0.0)  \n",
       "3         (40.7257247, -73.9970561, 0.0)  \n",
       "4                                   None  "
      ]
     },
     "execution_count": 70,
     "metadata": {},
     "output_type": "execute_result"
    }
   ],
   "source": [
    "subsets123567.head()"
   ]
  },
  {
   "cell_type": "code",
   "execution_count": 71,
   "metadata": {},
   "outputs": [
    {
     "data": {
      "text/html": [
       "<div>\n",
       "<style scoped>\n",
       "    .dataframe tbody tr th:only-of-type {\n",
       "        vertical-align: middle;\n",
       "    }\n",
       "\n",
       "    .dataframe tbody tr th {\n",
       "        vertical-align: top;\n",
       "    }\n",
       "\n",
       "    .dataframe thead th {\n",
       "        text-align: right;\n",
       "    }\n",
       "</style>\n",
       "<table border=\"1\" class=\"dataframe\">\n",
       "  <thead>\n",
       "    <tr style=\"text-align: right;\">\n",
       "      <th></th>\n",
       "      <th>ADDRESS</th>\n",
       "      <th>LOCATION</th>\n",
       "      <th>POINT</th>\n",
       "    </tr>\n",
       "  </thead>\n",
       "  <tbody>\n",
       "    <tr>\n",
       "      <th>595</th>\n",
       "      <td>1305 86 STREET BROOKLYN NY 11228</td>\n",
       "      <td>(86 St, Gravesend, BK, Kings County, NYC, New ...</td>\n",
       "      <td>(40.5906494, -73.975127, 0.0)</td>\n",
       "    </tr>\n",
       "    <tr>\n",
       "      <th>596</th>\n",
       "      <td>556 DRIGGS AVENUE BROOKLYN NY 11211</td>\n",
       "      <td>(556, Driggs Avenue, Greenpoint, BK, Kings Cou...</td>\n",
       "      <td>(40.7170007, -73.9566278, 0.0)</td>\n",
       "    </tr>\n",
       "    <tr>\n",
       "      <th>597</th>\n",
       "      <td>709 LORIMER STREET BROOKLYN NY 11211</td>\n",
       "      <td>(709, Lorimer Street, Greenpoint, BK, Kings Co...</td>\n",
       "      <td>(40.71809255, -73.9502882816778, 0.0)</td>\n",
       "    </tr>\n",
       "    <tr>\n",
       "      <th>598</th>\n",
       "      <td>200 MADISON AVENUE MANHATTAN NY 10016</td>\n",
       "      <td>(200 Madison Avenue, 200, Madison Avenue, Midt...</td>\n",
       "      <td>(40.7488852, -73.9827039003413, 0.0)</td>\n",
       "    </tr>\n",
       "    <tr>\n",
       "      <th>599</th>\n",
       "      <td>1236 2 AVENUE MANHATTAN NY 10065</td>\n",
       "      <td>None</td>\n",
       "      <td>None</td>\n",
       "    </tr>\n",
       "  </tbody>\n",
       "</table>\n",
       "</div>"
      ],
      "text/plain": [
       "                                   ADDRESS  \\\n",
       "595       1305 86 STREET BROOKLYN NY 11228   \n",
       "596    556 DRIGGS AVENUE BROOKLYN NY 11211   \n",
       "597   709 LORIMER STREET BROOKLYN NY 11211   \n",
       "598  200 MADISON AVENUE MANHATTAN NY 10016   \n",
       "599       1236 2 AVENUE MANHATTAN NY 10065   \n",
       "\n",
       "                                              LOCATION  \\\n",
       "595  (86 St, Gravesend, BK, Kings County, NYC, New ...   \n",
       "596  (556, Driggs Avenue, Greenpoint, BK, Kings Cou...   \n",
       "597  (709, Lorimer Street, Greenpoint, BK, Kings Co...   \n",
       "598  (200 Madison Avenue, 200, Madison Avenue, Midt...   \n",
       "599                                               None   \n",
       "\n",
       "                                     POINT  \n",
       "595          (40.5906494, -73.975127, 0.0)  \n",
       "596         (40.7170007, -73.9566278, 0.0)  \n",
       "597  (40.71809255, -73.9502882816778, 0.0)  \n",
       "598   (40.7488852, -73.9827039003413, 0.0)  \n",
       "599                                   None  "
      ]
     },
     "execution_count": 71,
     "metadata": {},
     "output_type": "execute_result"
    }
   ],
   "source": [
    "subsets123567.tail()"
   ]
  },
  {
   "cell_type": "code",
   "execution_count": 72,
   "metadata": {},
   "outputs": [],
   "source": [
    "# concat last subset of data with 5th concatenated dataframe\n",
    "all_subsets = pd.concat([subsets123567, subset8], axis=0, sort=False).reset_index().drop(['index', 'level_0'], axis=1)"
   ]
  },
  {
   "cell_type": "code",
   "execution_count": 73,
   "metadata": {},
   "outputs": [
    {
     "name": "stdout",
     "output_type": "stream",
     "text": [
      "<class 'pandas.core.frame.DataFrame'>\n",
      "RangeIndex: 700 entries, 0 to 699\n",
      "Data columns (total 3 columns):\n",
      "ADDRESS     700 non-null object\n",
      "LOCATION    446 non-null object\n",
      "POINT       446 non-null object\n",
      "dtypes: object(3)\n",
      "memory usage: 16.5+ KB\n"
     ]
    }
   ],
   "source": [
    "all_subsets.info()"
   ]
  },
  {
   "cell_type": "code",
   "execution_count": 74,
   "metadata": {},
   "outputs": [
    {
     "data": {
      "text/html": [
       "<div>\n",
       "<style scoped>\n",
       "    .dataframe tbody tr th:only-of-type {\n",
       "        vertical-align: middle;\n",
       "    }\n",
       "\n",
       "    .dataframe tbody tr th {\n",
       "        vertical-align: top;\n",
       "    }\n",
       "\n",
       "    .dataframe thead th {\n",
       "        text-align: right;\n",
       "    }\n",
       "</style>\n",
       "<table border=\"1\" class=\"dataframe\">\n",
       "  <thead>\n",
       "    <tr style=\"text-align: right;\">\n",
       "      <th></th>\n",
       "      <th>ADDRESS</th>\n",
       "      <th>LOCATION</th>\n",
       "      <th>POINT</th>\n",
       "    </tr>\n",
       "  </thead>\n",
       "  <tbody>\n",
       "    <tr>\n",
       "      <th>0</th>\n",
       "      <td>469 FLATBUSH AVENUE BROOKLYN NY 11225</td>\n",
       "      <td>(Wendy's, 469, Flatbush Avenue, Flatbush, BK, ...</td>\n",
       "      <td>(40.66293035, -73.9617257983564, 0.0)</td>\n",
       "    </tr>\n",
       "    <tr>\n",
       "      <th>1</th>\n",
       "      <td>7114 AVENUE U BROOKLYN NY 11234</td>\n",
       "      <td>(Wilkens Fine Foods, 7114, Avenue U, Bergen Be...</td>\n",
       "      <td>(40.619892, -73.9068502510335, 0.0)</td>\n",
       "    </tr>\n",
       "    <tr>\n",
       "      <th>2</th>\n",
       "      <td>1310 SURF AVENUE BROOKLYN NY 11224</td>\n",
       "      <td>(Nathan's Famous, 1310, Surf Avenue, West Brig...</td>\n",
       "      <td>(40.57530105, -73.9814687031484, 0.0)</td>\n",
       "    </tr>\n",
       "    <tr>\n",
       "      <th>3</th>\n",
       "      <td>18 WEST HOUSTON STREET MANHATTAN NY 10012</td>\n",
       "      <td>(18, West Houston Street, NoHo, Manhattan Comm...</td>\n",
       "      <td>(40.7257247, -73.9970561, 0.0)</td>\n",
       "    </tr>\n",
       "    <tr>\n",
       "      <th>4</th>\n",
       "      <td>10305 37 AVENUE QUEENS NY 11368</td>\n",
       "      <td>None</td>\n",
       "      <td>None</td>\n",
       "    </tr>\n",
       "  </tbody>\n",
       "</table>\n",
       "</div>"
      ],
      "text/plain": [
       "                                     ADDRESS  \\\n",
       "0      469 FLATBUSH AVENUE BROOKLYN NY 11225   \n",
       "1            7114 AVENUE U BROOKLYN NY 11234   \n",
       "2         1310 SURF AVENUE BROOKLYN NY 11224   \n",
       "3  18 WEST HOUSTON STREET MANHATTAN NY 10012   \n",
       "4            10305 37 AVENUE QUEENS NY 11368   \n",
       "\n",
       "                                            LOCATION  \\\n",
       "0  (Wendy's, 469, Flatbush Avenue, Flatbush, BK, ...   \n",
       "1  (Wilkens Fine Foods, 7114, Avenue U, Bergen Be...   \n",
       "2  (Nathan's Famous, 1310, Surf Avenue, West Brig...   \n",
       "3  (18, West Houston Street, NoHo, Manhattan Comm...   \n",
       "4                                               None   \n",
       "\n",
       "                                   POINT  \n",
       "0  (40.66293035, -73.9617257983564, 0.0)  \n",
       "1    (40.619892, -73.9068502510335, 0.0)  \n",
       "2  (40.57530105, -73.9814687031484, 0.0)  \n",
       "3         (40.7257247, -73.9970561, 0.0)  \n",
       "4                                   None  "
      ]
     },
     "execution_count": 74,
     "metadata": {},
     "output_type": "execute_result"
    }
   ],
   "source": [
    "all_subsets.head()"
   ]
  },
  {
   "cell_type": "code",
   "execution_count": 75,
   "metadata": {},
   "outputs": [
    {
     "data": {
      "text/html": [
       "<div>\n",
       "<style scoped>\n",
       "    .dataframe tbody tr th:only-of-type {\n",
       "        vertical-align: middle;\n",
       "    }\n",
       "\n",
       "    .dataframe tbody tr th {\n",
       "        vertical-align: top;\n",
       "    }\n",
       "\n",
       "    .dataframe thead th {\n",
       "        text-align: right;\n",
       "    }\n",
       "</style>\n",
       "<table border=\"1\" class=\"dataframe\">\n",
       "  <thead>\n",
       "    <tr style=\"text-align: right;\">\n",
       "      <th></th>\n",
       "      <th>ADDRESS</th>\n",
       "      <th>LOCATION</th>\n",
       "      <th>POINT</th>\n",
       "    </tr>\n",
       "  </thead>\n",
       "  <tbody>\n",
       "    <tr>\n",
       "      <th>695</th>\n",
       "      <td>160 BROADWAY MANHATTAN NY 10038</td>\n",
       "      <td>(160, Broadway, Financial District, Manhattan ...</td>\n",
       "      <td>(40.70937965, -74.0100296338982, 0.0)</td>\n",
       "    </tr>\n",
       "    <tr>\n",
       "      <th>696</th>\n",
       "      <td>917 MANOR ROAD STATEN ISLAND NY 10314</td>\n",
       "      <td>(917, Manor Road, Castleton Corners, Todt Hill...</td>\n",
       "      <td>(40.60439225, -74.1205629156551, 0.0)</td>\n",
       "    </tr>\n",
       "    <tr>\n",
       "      <th>697</th>\n",
       "      <td>129 GATES AVENUE BROOKLYN NY 11238</td>\n",
       "      <td>(129, Gates Avenue, Clinton Hill, BK, Kings Co...</td>\n",
       "      <td>(40.6849008, -73.9629318, 0.0)</td>\n",
       "    </tr>\n",
       "    <tr>\n",
       "      <th>698</th>\n",
       "      <td>132 CROSBY STREET MANHATTAN NY 10012</td>\n",
       "      <td>(132, Crosby Street, SoHo, Manhattan Community...</td>\n",
       "      <td>(40.7247777, -73.996323, 0.0)</td>\n",
       "    </tr>\n",
       "    <tr>\n",
       "      <th>699</th>\n",
       "      <td>802-804 KINGS HIGHWAY BROOKLYN NY 11223</td>\n",
       "      <td>(802, Kings Highway, Gravesend, BK, Kings Coun...</td>\n",
       "      <td>(40.6064537755102, -73.9644138979592, 0.0)</td>\n",
       "    </tr>\n",
       "  </tbody>\n",
       "</table>\n",
       "</div>"
      ],
      "text/plain": [
       "                                     ADDRESS  \\\n",
       "695          160 BROADWAY MANHATTAN NY 10038   \n",
       "696    917 MANOR ROAD STATEN ISLAND NY 10314   \n",
       "697       129 GATES AVENUE BROOKLYN NY 11238   \n",
       "698     132 CROSBY STREET MANHATTAN NY 10012   \n",
       "699  802-804 KINGS HIGHWAY BROOKLYN NY 11223   \n",
       "\n",
       "                                              LOCATION  \\\n",
       "695  (160, Broadway, Financial District, Manhattan ...   \n",
       "696  (917, Manor Road, Castleton Corners, Todt Hill...   \n",
       "697  (129, Gates Avenue, Clinton Hill, BK, Kings Co...   \n",
       "698  (132, Crosby Street, SoHo, Manhattan Community...   \n",
       "699  (802, Kings Highway, Gravesend, BK, Kings Coun...   \n",
       "\n",
       "                                          POINT  \n",
       "695       (40.70937965, -74.0100296338982, 0.0)  \n",
       "696       (40.60439225, -74.1205629156551, 0.0)  \n",
       "697              (40.6849008, -73.9629318, 0.0)  \n",
       "698               (40.7247777, -73.996323, 0.0)  \n",
       "699  (40.6064537755102, -73.9644138979592, 0.0)  "
      ]
     },
     "execution_count": 75,
     "metadata": {},
     "output_type": "execute_result"
    }
   ],
   "source": [
    "all_subsets.tail()"
   ]
  },
  {
   "cell_type": "code",
   "execution_count": 76,
   "metadata": {},
   "outputs": [
    {
     "data": {
      "text/plain": [
       "ADDRESS       0\n",
       "LOCATION    254\n",
       "POINT       254\n",
       "dtype: int64"
      ]
     },
     "execution_count": 76,
     "metadata": {},
     "output_type": "execute_result"
    }
   ],
   "source": [
    "# check null values\n",
    "all_subsets.isnull().sum()"
   ]
  },
  {
   "cell_type": "code",
   "execution_count": 77,
   "metadata": {},
   "outputs": [],
   "source": [
    "# drop rows with null values in Location and Point columns\n",
    "all_subsets = all_subsets.dropna(subset=['LOCATION', 'POINT']).reset_index()"
   ]
  },
  {
   "cell_type": "code",
   "execution_count": 78,
   "metadata": {},
   "outputs": [
    {
     "data": {
      "text/plain": [
       "index       0\n",
       "ADDRESS     0\n",
       "LOCATION    0\n",
       "POINT       0\n",
       "dtype: int64"
      ]
     },
     "execution_count": 78,
     "metadata": {},
     "output_type": "execute_result"
    }
   ],
   "source": [
    "all_subsets.isnull().sum()"
   ]
  },
  {
   "cell_type": "code",
   "execution_count": 79,
   "metadata": {},
   "outputs": [
    {
     "data": {
      "text/html": [
       "<div>\n",
       "<style scoped>\n",
       "    .dataframe tbody tr th:only-of-type {\n",
       "        vertical-align: middle;\n",
       "    }\n",
       "\n",
       "    .dataframe tbody tr th {\n",
       "        vertical-align: top;\n",
       "    }\n",
       "\n",
       "    .dataframe thead th {\n",
       "        text-align: right;\n",
       "    }\n",
       "</style>\n",
       "<table border=\"1\" class=\"dataframe\">\n",
       "  <thead>\n",
       "    <tr style=\"text-align: right;\">\n",
       "      <th></th>\n",
       "      <th>index</th>\n",
       "      <th>ADDRESS</th>\n",
       "      <th>LOCATION</th>\n",
       "      <th>POINT</th>\n",
       "    </tr>\n",
       "  </thead>\n",
       "  <tbody>\n",
       "    <tr>\n",
       "      <th>0</th>\n",
       "      <td>0</td>\n",
       "      <td>469 FLATBUSH AVENUE BROOKLYN NY 11225</td>\n",
       "      <td>(Wendy's, 469, Flatbush Avenue, Flatbush, BK, ...</td>\n",
       "      <td>(40.66293035, -73.9617257983564, 0.0)</td>\n",
       "    </tr>\n",
       "    <tr>\n",
       "      <th>1</th>\n",
       "      <td>1</td>\n",
       "      <td>7114 AVENUE U BROOKLYN NY 11234</td>\n",
       "      <td>(Wilkens Fine Foods, 7114, Avenue U, Bergen Be...</td>\n",
       "      <td>(40.619892, -73.9068502510335, 0.0)</td>\n",
       "    </tr>\n",
       "    <tr>\n",
       "      <th>2</th>\n",
       "      <td>2</td>\n",
       "      <td>1310 SURF AVENUE BROOKLYN NY 11224</td>\n",
       "      <td>(Nathan's Famous, 1310, Surf Avenue, West Brig...</td>\n",
       "      <td>(40.57530105, -73.9814687031484, 0.0)</td>\n",
       "    </tr>\n",
       "    <tr>\n",
       "      <th>3</th>\n",
       "      <td>3</td>\n",
       "      <td>18 WEST HOUSTON STREET MANHATTAN NY 10012</td>\n",
       "      <td>(18, West Houston Street, NoHo, Manhattan Comm...</td>\n",
       "      <td>(40.7257247, -73.9970561, 0.0)</td>\n",
       "    </tr>\n",
       "    <tr>\n",
       "      <th>4</th>\n",
       "      <td>5</td>\n",
       "      <td>60 WALL STREET MANHATTAN NY 10005</td>\n",
       "      <td>(60 Wall Street, 60, Wall Street, Financial Di...</td>\n",
       "      <td>(40.70617305, -74.0085161961879, 0.0)</td>\n",
       "    </tr>\n",
       "  </tbody>\n",
       "</table>\n",
       "</div>"
      ],
      "text/plain": [
       "   index                                    ADDRESS  \\\n",
       "0      0      469 FLATBUSH AVENUE BROOKLYN NY 11225   \n",
       "1      1            7114 AVENUE U BROOKLYN NY 11234   \n",
       "2      2         1310 SURF AVENUE BROOKLYN NY 11224   \n",
       "3      3  18 WEST HOUSTON STREET MANHATTAN NY 10012   \n",
       "4      5          60 WALL STREET MANHATTAN NY 10005   \n",
       "\n",
       "                                            LOCATION  \\\n",
       "0  (Wendy's, 469, Flatbush Avenue, Flatbush, BK, ...   \n",
       "1  (Wilkens Fine Foods, 7114, Avenue U, Bergen Be...   \n",
       "2  (Nathan's Famous, 1310, Surf Avenue, West Brig...   \n",
       "3  (18, West Houston Street, NoHo, Manhattan Comm...   \n",
       "4  (60 Wall Street, 60, Wall Street, Financial Di...   \n",
       "\n",
       "                                   POINT  \n",
       "0  (40.66293035, -73.9617257983564, 0.0)  \n",
       "1    (40.619892, -73.9068502510335, 0.0)  \n",
       "2  (40.57530105, -73.9814687031484, 0.0)  \n",
       "3         (40.7257247, -73.9970561, 0.0)  \n",
       "4  (40.70617305, -74.0085161961879, 0.0)  "
      ]
     },
     "execution_count": 79,
     "metadata": {},
     "output_type": "execute_result"
    }
   ],
   "source": [
    "all_subsets.head()"
   ]
  },
  {
   "cell_type": "code",
   "execution_count": 80,
   "metadata": {},
   "outputs": [
    {
     "data": {
      "text/html": [
       "<div>\n",
       "<style scoped>\n",
       "    .dataframe tbody tr th:only-of-type {\n",
       "        vertical-align: middle;\n",
       "    }\n",
       "\n",
       "    .dataframe tbody tr th {\n",
       "        vertical-align: top;\n",
       "    }\n",
       "\n",
       "    .dataframe thead th {\n",
       "        text-align: right;\n",
       "    }\n",
       "</style>\n",
       "<table border=\"1\" class=\"dataframe\">\n",
       "  <thead>\n",
       "    <tr style=\"text-align: right;\">\n",
       "      <th></th>\n",
       "      <th>index</th>\n",
       "      <th>ADDRESS</th>\n",
       "      <th>LOCATION</th>\n",
       "      <th>POINT</th>\n",
       "    </tr>\n",
       "  </thead>\n",
       "  <tbody>\n",
       "    <tr>\n",
       "      <th>441</th>\n",
       "      <td>695</td>\n",
       "      <td>160 BROADWAY MANHATTAN NY 10038</td>\n",
       "      <td>(160, Broadway, Financial District, Manhattan ...</td>\n",
       "      <td>(40.70937965, -74.0100296338982, 0.0)</td>\n",
       "    </tr>\n",
       "    <tr>\n",
       "      <th>442</th>\n",
       "      <td>696</td>\n",
       "      <td>917 MANOR ROAD STATEN ISLAND NY 10314</td>\n",
       "      <td>(917, Manor Road, Castleton Corners, Todt Hill...</td>\n",
       "      <td>(40.60439225, -74.1205629156551, 0.0)</td>\n",
       "    </tr>\n",
       "    <tr>\n",
       "      <th>443</th>\n",
       "      <td>697</td>\n",
       "      <td>129 GATES AVENUE BROOKLYN NY 11238</td>\n",
       "      <td>(129, Gates Avenue, Clinton Hill, BK, Kings Co...</td>\n",
       "      <td>(40.6849008, -73.9629318, 0.0)</td>\n",
       "    </tr>\n",
       "    <tr>\n",
       "      <th>444</th>\n",
       "      <td>698</td>\n",
       "      <td>132 CROSBY STREET MANHATTAN NY 10012</td>\n",
       "      <td>(132, Crosby Street, SoHo, Manhattan Community...</td>\n",
       "      <td>(40.7247777, -73.996323, 0.0)</td>\n",
       "    </tr>\n",
       "    <tr>\n",
       "      <th>445</th>\n",
       "      <td>699</td>\n",
       "      <td>802-804 KINGS HIGHWAY BROOKLYN NY 11223</td>\n",
       "      <td>(802, Kings Highway, Gravesend, BK, Kings Coun...</td>\n",
       "      <td>(40.6064537755102, -73.9644138979592, 0.0)</td>\n",
       "    </tr>\n",
       "  </tbody>\n",
       "</table>\n",
       "</div>"
      ],
      "text/plain": [
       "     index                                  ADDRESS  \\\n",
       "441    695          160 BROADWAY MANHATTAN NY 10038   \n",
       "442    696    917 MANOR ROAD STATEN ISLAND NY 10314   \n",
       "443    697       129 GATES AVENUE BROOKLYN NY 11238   \n",
       "444    698     132 CROSBY STREET MANHATTAN NY 10012   \n",
       "445    699  802-804 KINGS HIGHWAY BROOKLYN NY 11223   \n",
       "\n",
       "                                              LOCATION  \\\n",
       "441  (160, Broadway, Financial District, Manhattan ...   \n",
       "442  (917, Manor Road, Castleton Corners, Todt Hill...   \n",
       "443  (129, Gates Avenue, Clinton Hill, BK, Kings Co...   \n",
       "444  (132, Crosby Street, SoHo, Manhattan Community...   \n",
       "445  (802, Kings Highway, Gravesend, BK, Kings Coun...   \n",
       "\n",
       "                                          POINT  \n",
       "441       (40.70937965, -74.0100296338982, 0.0)  \n",
       "442       (40.60439225, -74.1205629156551, 0.0)  \n",
       "443              (40.6849008, -73.9629318, 0.0)  \n",
       "444               (40.7247777, -73.996323, 0.0)  \n",
       "445  (40.6064537755102, -73.9644138979592, 0.0)  "
      ]
     },
     "execution_count": 80,
     "metadata": {},
     "output_type": "execute_result"
    }
   ],
   "source": [
    "all_subsets.tail()"
   ]
  },
  {
   "cell_type": "markdown",
   "metadata": {},
   "source": [
    "# Save Data to CSV File"
   ]
  },
  {
   "cell_type": "code",
   "execution_count": 81,
   "metadata": {},
   "outputs": [],
   "source": [
    "# save dataframe to csv\n",
    "# all_subsets.to_csv('./data/Geocoded_Addresses.csv')"
   ]
  },
  {
   "cell_type": "code",
   "execution_count": null,
   "metadata": {},
   "outputs": [],
   "source": []
  }
 ],
 "metadata": {
  "kernelspec": {
   "display_name": "Python 3",
   "language": "python",
   "name": "python3"
  },
  "language_info": {
   "codemirror_mode": {
    "name": "ipython",
    "version": 3
   },
   "file_extension": ".py",
   "mimetype": "text/x-python",
   "name": "python",
   "nbconvert_exporter": "python",
   "pygments_lexer": "ipython3",
   "version": "3.7.3"
  }
 },
 "nbformat": 4,
 "nbformat_minor": 2
}
